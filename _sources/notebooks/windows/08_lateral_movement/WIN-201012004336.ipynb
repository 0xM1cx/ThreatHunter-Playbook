{
 "cells": [
  {
   "cell_type": "markdown",
   "id": "415bd2df",
   "metadata": {},
   "source": [
    "# SMB Create Remote File"
   ]
  },
  {
   "cell_type": "markdown",
   "id": "5c4631b0",
   "metadata": {},
   "source": [
    "## Metadata"
   ]
  },
  {
   "cell_type": "markdown",
   "id": "972ec005",
   "metadata": {},
   "source": [
    "\n",
    "|     Metadata      |  Value  |\n",
    "|:------------------|:---|\n",
    "| collaborators     | ['@Cyb3rWard0g', '@Cyb3rPandaH'] |\n",
    "| creation date     | 2020/10/12 |\n",
    "| modification date | 2020/10/12 |\n",
    "| playbook related  | [] |"
   ]
  },
  {
   "cell_type": "markdown",
   "id": "6e8e5049",
   "metadata": {},
   "source": [
    "## Hypothesis\n",
    "Adversaries might be creating a file remotely via the Server Message Block (SMB) Protocol."
   ]
  },
  {
   "cell_type": "markdown",
   "id": "ae5b8922",
   "metadata": {},
   "source": [
    "## Technical Context\n",
    "Client systems use the Common Internet File System (CIFS) Protocol to request file and print services from server systems over a network. CIFS is a stateful protocol, in which clients establish a session with a server and use that session to make a variety of requests to access files, printers, and inter-process communication (IPC) mechanisms, such as named pipes.\n",
    "The extended CIFS Protocol is known as the Server Message Block (SMB). The SMB2 CREATE Request packet is sent by a client to request either creation of or access to a file. In case of a named pipe or printer, the server MUST create a new file."
   ]
  },
  {
   "cell_type": "markdown",
   "id": "32ddf220",
   "metadata": {},
   "source": [
    "## Offensive Tradecraft\n",
    "Adversaries leverage SMB to copy files over the network to either execute code remotely or exfiltrate data."
   ]
  },
  {
   "cell_type": "markdown",
   "id": "51788d7e",
   "metadata": {},
   "source": [
    "## Security Datasets"
   ]
  },
  {
   "cell_type": "markdown",
   "id": "6af5eaca",
   "metadata": {},
   "source": [
    "\n",
    "| Metadata  |    Value  |\n",
    "|:----------|:----------|\n",
    "| docs      | https://securitydatasets.com/notebooks/atomic/windows/lateral_movement/SDWIN-200806015757.html        |\n",
    "| link      | [https://raw.githubusercontent.com/OTRF/Security-Datasets/master/datasets/atomic/windows/lateral_movement/host/covenant_copy_smb_CreateRequest.zip](https://raw.githubusercontent.com/OTRF/Security-Datasets/master/datasets/atomic/windows/lateral_movement/host/covenant_copy_smb_CreateRequest.zip)  |"
   ]
  },
  {
   "cell_type": "markdown",
   "id": "a5cb55d0",
   "metadata": {},
   "source": [
    "## Analytics"
   ]
  },
  {
   "cell_type": "markdown",
   "id": "a8f00103",
   "metadata": {},
   "source": [
    "### Initialize Analytics Engine"
   ]
  },
  {
   "cell_type": "code",
   "execution_count": null,
   "id": "0c9e010b",
   "metadata": {},
   "outputs": [],
   "source": [
    "from openhunt.mordorutils import *\n",
    "spark = get_spark()"
   ]
  },
  {
   "cell_type": "markdown",
   "id": "35533805",
   "metadata": {},
   "source": [
    "### Download & Process Security Dataset"
   ]
  },
  {
   "cell_type": "code",
   "execution_count": null,
   "id": "c387813d",
   "metadata": {},
   "outputs": [],
   "source": [
    "sd_file = \"https://raw.githubusercontent.com/OTRF/Security-Datasets/master/datasets/atomic/windows/lateral_movement/host/covenant_copy_smb_CreateRequest.zip\"\n",
    "registerMordorSQLTable(spark, sd_file, \"sdTable\")"
   ]
  },
  {
   "cell_type": "markdown",
   "id": "a711e335",
   "metadata": {},
   "source": [
    "### Analytic I\n",
    "Look for non-system accounts SMB connecting (Tree Connect) to a file share that is not IPC$."
   ]
  },
  {
   "cell_type": "markdown",
   "id": "c8e3c452",
   "metadata": {},
   "source": [
    "\n",
    "| Data source | Event Provider | Relationship | Event |\n",
    "|:------------|:---------------|--------------|-------|\n",
    "| File | Microsoft-Windows-Security-Auditing | User accessed file share | 5140 |"
   ]
  },
  {
   "cell_type": "code",
   "execution_count": null,
   "id": "1a4c8254",
   "metadata": {},
   "outputs": [],
   "source": [
    "df = spark.sql(\n",
    "'''\n",
    "SELECT `@timestamp`, Hostname, ShareName, SubjectUserName, SubjectLogonId,  AccessMask\n",
    "FROM sdTable\n",
    "WHERE LOWER(Channel) = 'security'\n",
    "    AND (EventID = 5140)\n",
    "    AND NOT ShareName LIKE '%IPC$'\n",
    "    AND NOT SubjectUserName LIKE '%$'\n",
    "'''\n",
    ")\n",
    "df.show(10,False)"
   ]
  },
  {
   "cell_type": "markdown",
   "id": "affe22ed",
   "metadata": {},
   "source": [
    "### Analytic II\n",
    "Look for non-system accounts SMB connecting (Tree Connect) to an IPC$ Share and administrative shares (i.e C$) with the same logon session ID."
   ]
  },
  {
   "cell_type": "markdown",
   "id": "834bba1a",
   "metadata": {},
   "source": [
    "\n",
    "| Data source | Event Provider | Relationship | Event |\n",
    "|:------------|:---------------|--------------|-------|\n",
    "| File | Microsoft-Windows-Security-Auditing | User accessed file share | 5140 |"
   ]
  },
  {
   "cell_type": "code",
   "execution_count": null,
   "id": "687533e7",
   "metadata": {},
   "outputs": [],
   "source": [
    "df = spark.sql(\n",
    "'''\n",
    "SELECT `@timestamp`, Hostname, ShareName, SubjectUserName, b.SubjectLogonId, IpAddress, IpPort\n",
    "FROM sdTable b\n",
    "INNER JOIN (\n",
    "    SELECT SubjectLogonId\n",
    "    FROM sdTable\n",
    "    WHERE LOWER(Channel) = \"security\"\n",
    "        AND EventID = 5140\n",
    "        AND ShareName LIKE '%IPC$'\n",
    "        AND NOT SubjectUserName LIKE '%$'\n",
    "    ) a\n",
    "ON b.SubjectLogonId = a.SubjectLogonId\n",
    "WHERE LOWER(b.Channel) = 'security'\n",
    "    AND b.EventID = 5140\n",
    "    AND b.ShareName LIKE '%C$'\n",
    "    AND NOT SubjectUserName LIKE '%$'\n",
    "'''\n",
    ")\n",
    "df.show(10,False)"
   ]
  },
  {
   "cell_type": "markdown",
   "id": "76501270",
   "metadata": {},
   "source": [
    "### Analytic III\n",
    "Look for non-system accounts SMB accessing a file with write (0x2) access mask via administrative share (i.e C$)."
   ]
  },
  {
   "cell_type": "markdown",
   "id": "fbcacff1",
   "metadata": {},
   "source": [
    "\n",
    "| Data source | Event Provider | Relationship | Event |\n",
    "|:------------|:---------------|--------------|-------|\n",
    "| File | Microsoft-Windows-Security-Auditing | User accessed File | 5145 |"
   ]
  },
  {
   "cell_type": "code",
   "execution_count": null,
   "id": "73d99c37",
   "metadata": {},
   "outputs": [],
   "source": [
    "df = spark.sql(\n",
    "'''\n",
    "SELECT `@timestamp`, Hostname, ShareName, SubjectUserName, SubjectLogonId, IpAddress, IpPort, RelativeTargetName\n",
    "FROM sdTable\n",
    "WHERE LOWER(Channel) = \"security\"\n",
    "    AND EventID = 5145\n",
    "    AND ShareName LIKE '%C$'\n",
    "    AND NOT SubjectUserName LIKE '%$'\n",
    "    AND AccessMask = '0x2'\n",
    "'''\n",
    ")\n",
    "df.show(10,False)"
   ]
  },
  {
   "cell_type": "markdown",
   "id": "589c4052",
   "metadata": {},
   "source": [
    "### Analytic IV\n",
    "Look for non-system accounts SMB connecting (Tree Connect) to an IPC$ Share and administrative shares (i.e C$) and accessing/creating a file with write (0x2) access mask with the same logon session ID."
   ]
  },
  {
   "cell_type": "markdown",
   "id": "7f65b6e8",
   "metadata": {},
   "source": [
    "\n",
    "| Data source | Event Provider | Relationship | Event |\n",
    "|:------------|:---------------|--------------|-------|\n",
    "| File | Microsoft-Windows-Security-Auditing | User accessed file share | 5140 |\n",
    "| File | Microsoft-Windows-Security-Auditing | User accessed File | 5145 |"
   ]
  },
  {
   "cell_type": "code",
   "execution_count": null,
   "id": "e7fcb566",
   "metadata": {},
   "outputs": [],
   "source": [
    "df = spark.sql(\n",
    "'''\n",
    "SELECT `@timestamp`, Hostname, ShareName, SubjectUserName, d.SubjectLogonId, IpAddress, IpPort, RelativeTargetName\n",
    "FROM sdTable d\n",
    "INNER JOIN (\n",
    "    SELECT b.SubjectLogonId\n",
    "    FROM sdTable b\n",
    "    INNER JOIN (\n",
    "        SELECT SubjectLogonId\n",
    "        FROM sdTable\n",
    "        WHERE LOWER(Channel) = \"security\"\n",
    "            AND EventID = 5140\n",
    "            AND ShareName LIKE '%IPC$'\n",
    "            AND NOT SubjectUserName LIKE '%$'\n",
    "    ) a\n",
    "    ON b.SubjectLogonId = a.SubjectLogonId\n",
    "    WHERE LOWER(b.Channel) = 'security'\n",
    "        AND b.EventID = 5140\n",
    "        AND b.ShareName LIKE '%C$'\n",
    ") c\n",
    "ON d.SubjectLogonId = c.SubjectLogonId\n",
    "WHERE LOWER(d.Channel) = 'security'\n",
    "    AND d.EventID = 5145\n",
    "    AND d.ShareName LIKE '%C$'\n",
    "    AND d.AccessMask = '0x2'\n",
    "'''\n",
    ")\n",
    "df.show(10,False)"
   ]
  },
  {
   "cell_type": "markdown",
   "id": "3e4dd7db",
   "metadata": {},
   "source": [
    "### Analytic V\n",
    "Look for files that were accessed over the network with write (0x2) access mask via administrative shares (i.e C$) and that were created by the System process on the target system."
   ]
  },
  {
   "cell_type": "markdown",
   "id": "deb0f049",
   "metadata": {},
   "source": [
    "\n",
    "| Data source | Event Provider | Relationship | Event |\n",
    "|:------------|:---------------|--------------|-------|\n",
    "| File | Microsoft-Windows-Security-Auditing | User accessed File | 5145 |\n",
    "| File | Microsoft-Windows-Sysmon/Operational | Process created File | 11 |"
   ]
  },
  {
   "cell_type": "code",
   "execution_count": null,
   "id": "3a80de2b",
   "metadata": {},
   "outputs": [],
   "source": [
    "df = spark.sql(\n",
    "'''\n",
    "SELECT `@timestamp`, Hostname, ShareName, SubjectUserName, SubjectLogonId, IpAddress, IpPort, RelativeTargetName\n",
    "FROM sdTable b\n",
    "INNER JOIN (\n",
    "    SELECT LOWER(REVERSE(SPLIT(TargetFilename, '\\'))[0]) as TargetFilename\n",
    "    FROM sdTable\n",
    "    WHERE Channel = 'Microsoft-Windows-Sysmon/Operational'\n",
    "        AND Image = 'System'\n",
    "        AND EventID = 11\n",
    ") a\n",
    "ON LOWER(REVERSE(SPLIT(RelativeTargetName, '\\'))[0]) = a.TargetFilename\n",
    "WHERE LOWER(b.Channel) = 'security'\n",
    "    AND b.EventID = 5145\n",
    "    AND b.AccessMask = '0x2'\n",
    "'''\n",
    ")\n",
    "df.show(10,False)"
   ]
  },
  {
   "cell_type": "markdown",
   "id": "16777db0",
   "metadata": {},
   "source": [
    "## Known Bypasses"
   ]
  },
  {
   "cell_type": "markdown",
   "id": "695ab082",
   "metadata": {},
   "source": [
    "## False Positives\n",
    "None"
   ]
  },
  {
   "cell_type": "markdown",
   "id": "a89fca30",
   "metadata": {},
   "source": [
    "## Hunter Notes\n",
    "* Baseline your environment to identify normal activity. Document all accounts creating files over the network via administrative shares."
   ]
  },
  {
   "cell_type": "markdown",
   "id": "c98d6886",
   "metadata": {},
   "source": [
    "## References\n",
    "* https://docs.microsoft.com/en-us/openspecs/windows_protocols/ms-smb/8341356c-ede3-4e1c-a056-3de91473bde6\n",
    "* https://docs.microsoft.com/en-us/openspecs/windows_protocols/ms-smb2/e8fb45c1-a03d-44ca-b7ae-47385cfd7997"
   ]
  }
 ],
 "metadata": {
  "kernelspec": {
   "display_name": "PySpark_Python3",
   "language": "python",
   "name": "pyspark3"
  },
  "language_info": {
   "codemirror_mode": {
    "name": "ipython",
    "version": 3
   },
   "file_extension": ".py",
   "mimetype": "text/x-python",
   "name": "python",
   "nbconvert_exporter": "python",
   "pygments_lexer": "ipython3",
   "version": "3.7.3"
  }
 },
 "nbformat": 4,
 "nbformat_minor": 5
}
