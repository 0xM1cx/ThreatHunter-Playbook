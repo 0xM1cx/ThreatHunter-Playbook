{
 "cells": [
  {
   "cell_type": "markdown",
   "id": "aac871c6",
   "metadata": {},
   "source": [
    "# Remote Interactive Task Manager LSASS Dump"
   ]
  },
  {
   "cell_type": "markdown",
   "id": "9883ee64",
   "metadata": {},
   "source": [
    "## Metadata"
   ]
  },
  {
   "cell_type": "markdown",
   "id": "bc26b420",
   "metadata": {},
   "source": [
    "\n",
    "|     Metadata      |  Value  |\n",
    "|:------------------|:---|\n",
    "| collaborators     | ['@Cyb3rWard0g', '@Cyb3rPandaH'] |\n",
    "| creation date     | 2019/10/30 |\n",
    "| modification date | 2020/09/20 |\n",
    "| playbook related  | ['WIN-1904101010'] |"
   ]
  },
  {
   "cell_type": "markdown",
   "id": "dd5ebfca",
   "metadata": {},
   "source": [
    "## Hypothesis\n",
    "Adversaries might be RDPing to computers in my environment and interactively dumping the memory contents of LSASS with task manager."
   ]
  },
  {
   "cell_type": "markdown",
   "id": "0855a42a",
   "metadata": {},
   "source": [
    "## Technical Context\n",
    "None"
   ]
  },
  {
   "cell_type": "markdown",
   "id": "4bd2aab0",
   "metadata": {},
   "source": [
    "## Offensive Tradecraft\n",
    "The Windows Task Manager may be used to dump the memory space of lsass.exe to disk for processing with a credential access tool such as Mimikatz.\n",
    "This is performed by launching Task Manager as a privileged user, selecting lsass.exe, and clicking \"Create dump file\".\n",
    "This saves a dump file to disk with a deterministic name that includes the name of the process being dumped."
   ]
  },
  {
   "cell_type": "markdown",
   "id": "7a6610ad",
   "metadata": {},
   "source": [
    "## Security Datasets"
   ]
  },
  {
   "cell_type": "markdown",
   "id": "ca119d72",
   "metadata": {},
   "source": [
    "\n",
    "| Metadata  |    Value  |\n",
    "|:----------|:----------|\n",
    "| docs      | https://securitydatasets.com/notebooks/atomic/windows/credential_access/SDWIN-191027055035.html        |\n",
    "| link      | [https://raw.githubusercontent.com/OTRF/Security-Datasets/master/datasets/atomic/windows/credential_access/host/rdp_interactive_taskmanager_lsass_dump.zip](https://raw.githubusercontent.com/OTRF/Security-Datasets/master/datasets/atomic/windows/credential_access/host/rdp_interactive_taskmanager_lsass_dump.zip)  |"
   ]
  },
  {
   "cell_type": "markdown",
   "id": "f636e22f",
   "metadata": {},
   "source": [
    "## Analytics"
   ]
  },
  {
   "cell_type": "markdown",
   "id": "08de9d4d",
   "metadata": {},
   "source": [
    "### Initialize Analytics Engine"
   ]
  },
  {
   "cell_type": "code",
   "execution_count": null,
   "id": "bbd5d66c",
   "metadata": {},
   "outputs": [],
   "source": [
    "from openhunt.mordorutils import *\n",
    "spark = get_spark()"
   ]
  },
  {
   "cell_type": "markdown",
   "id": "f4e278a4",
   "metadata": {},
   "source": [
    "### Download & Process Security Dataset"
   ]
  },
  {
   "cell_type": "code",
   "execution_count": null,
   "id": "e62515be",
   "metadata": {},
   "outputs": [],
   "source": [
    "sd_file = \"https://raw.githubusercontent.com/OTRF/Security-Datasets/master/datasets/atomic/windows/credential_access/host/rdp_interactive_taskmanager_lsass_dump.zip\"\n",
    "registerMordorSQLTable(spark, sd_file, \"sdTable\")"
   ]
  },
  {
   "cell_type": "markdown",
   "id": "5aa5d771",
   "metadata": {},
   "source": [
    "### Analytic I\n",
    "Look for taskmgr creating files which name contains the string lsass and with extension .dmp."
   ]
  },
  {
   "cell_type": "markdown",
   "id": "570e2f19",
   "metadata": {},
   "source": [
    "\n",
    "| Data source | Event Provider | Relationship | Event |\n",
    "|:------------|:---------------|--------------|-------|\n",
    "| File | Microsoft-Windows-Sysmon/Operational | Process created File | 11 |"
   ]
  },
  {
   "cell_type": "code",
   "execution_count": null,
   "id": "77b22ff8",
   "metadata": {},
   "outputs": [],
   "source": [
    "df = spark.sql(\n",
    "'''\n",
    "SELECT `@timestamp`, Hostname, Image, TargetFilename, ProcessGuid\n",
    "FROM sdTable\n",
    "WHERE Channel = \"Microsoft-Windows-Sysmon/Operational\"\n",
    "    AND EventID = 11\n",
    "    AND Image LIKE \"%taskmgr.exe\"\n",
    "    AND lower(TargetFilename) RLIKE \".*lsass.*\\.dmp\"\n",
    "'''\n",
    ")\n",
    "df.show(10,False)"
   ]
  },
  {
   "cell_type": "markdown",
   "id": "82feff61",
   "metadata": {},
   "source": [
    "### Analytic II\n",
    "Look for task manager access lsass and with functions from dbgcore.dll or dbghelp.dll libraries"
   ]
  },
  {
   "cell_type": "markdown",
   "id": "fd84f0ed",
   "metadata": {},
   "source": [
    "\n",
    "| Data source | Event Provider | Relationship | Event |\n",
    "|:------------|:---------------|--------------|-------|\n",
    "| Process | Microsoft-Windows-Sysmon/Operational | Process accessed Process | 10 |"
   ]
  },
  {
   "cell_type": "code",
   "execution_count": null,
   "id": "7df89945",
   "metadata": {},
   "outputs": [],
   "source": [
    "df = spark.sql(\n",
    "'''\n",
    "SELECT `@timestamp`, Hostname, SourceImage, TargetImage, GrantedAccess\n",
    "FROM sdTable\n",
    "WHERE Channel = \"Microsoft-Windows-Sysmon/Operational\"\n",
    "    AND EventID = 10\n",
    "    AND lower(SourceImage) LIKE \"%taskmgr.exe\"\n",
    "    AND lower(TargetImage) LIKE \"%lsass.exe\"\n",
    "    AND (lower(CallTrace) RLIKE \".*dbgcore\\.dll.*\" OR lower(CallTrace) RLIKE \".*dbghelp\\.dll.*\")\n",
    "'''\n",
    ")\n",
    "df.show(10,False)"
   ]
  },
  {
   "cell_type": "markdown",
   "id": "0c87066d",
   "metadata": {},
   "source": [
    "### Analytic III\n",
    "Look for any process accessing lsass and with functions from dbgcore.dll or dbghelp.dll libraries"
   ]
  },
  {
   "cell_type": "markdown",
   "id": "d007dd06",
   "metadata": {},
   "source": [
    "\n",
    "| Data source | Event Provider | Relationship | Event |\n",
    "|:------------|:---------------|--------------|-------|\n",
    "| Process | Microsoft-Windows-Sysmon/Operational | Process accessed Process | 10 |"
   ]
  },
  {
   "cell_type": "code",
   "execution_count": null,
   "id": "749da58d",
   "metadata": {},
   "outputs": [],
   "source": [
    "df = spark.sql(\n",
    "'''\n",
    "SELECT `@timestamp`, Hostname, SourceImage, TargetImage, GrantedAccess\n",
    "FROM sdTable\n",
    "WHERE Channel = \"Microsoft-Windows-Sysmon/Operational\"\n",
    "    AND EventID = 10\n",
    "    AND lower(TargetImage) LIKE \"%lsass.exe\"\n",
    "    AND (lower(CallTrace) RLIKE \".*dbgcore\\.dll.*\" OR lower(CallTrace) RLIKE \".*dbghelp\\.dll.*\")\n",
    "'''\n",
    ")\n",
    "df.show(10,False)"
   ]
  },
  {
   "cell_type": "markdown",
   "id": "a2b025c7",
   "metadata": {},
   "source": [
    "### Analytic IV\n",
    "Look for combinations of process access and process creation to get more context around potential lsass dump form task manager or other binaries"
   ]
  },
  {
   "cell_type": "markdown",
   "id": "123c9890",
   "metadata": {},
   "source": [
    "\n",
    "| Data source | Event Provider | Relationship | Event |\n",
    "|:------------|:---------------|--------------|-------|\n",
    "| Process | Microsoft-Windows-Sysmon/Operational | Process accessed Process | 10 |\n",
    "| Process | Microsoft-Windows-Sysmon/Operational | Process created Process | 1 |"
   ]
  },
  {
   "cell_type": "code",
   "execution_count": null,
   "id": "08f070aa",
   "metadata": {},
   "outputs": [],
   "source": [
    "df = spark.sql(\n",
    "'''\n",
    "SELECT o.`@timestamp`, o.Hostname, o.Image, o.LogonId, o.ProcessGuid, a.SourceProcessGUID, o.CommandLine\n",
    "FROM sdTable o\n",
    "INNER JOIN (\n",
    "    SELECT Hostname,SourceProcessGUID\n",
    "    FROM sdTable\n",
    "    WHERE Channel = \"Microsoft-Windows-Sysmon/Operational\"\n",
    "        AND EventID = 10\n",
    "        AND lower(TargetImage) LIKE \"%lsass.exe\"\n",
    "        AND (lower(CallTrace) RLIKE \".*dbgcore\\.dll.*\" OR lower(CallTrace) RLIKE \".*dbghelp\\.dll.*\")\n",
    "    ) a\n",
    "ON o.ProcessGuid = a.SourceProcessGUID\n",
    "WHERE o.Channel = \"Microsoft-Windows-Sysmon/Operational\"\n",
    "    AND o.EventID = 1\n",
    "'''\n",
    ")\n",
    "df.show(10,False)"
   ]
  },
  {
   "cell_type": "markdown",
   "id": "8f9398a2",
   "metadata": {},
   "source": [
    "### Analytic V\n",
    "Look for binaries accessing lsass that are running under the same logon context of a user over an RDP session"
   ]
  },
  {
   "cell_type": "markdown",
   "id": "52762f53",
   "metadata": {},
   "source": [
    "\n",
    "| Data source | Event Provider | Relationship | Event |\n",
    "|:------------|:---------------|--------------|-------|\n",
    "| Process | Microsoft-Windows-Sysmon/Operational | Process accessed Process | 10 |\n",
    "| Process | Microsoft-Windows-Sysmon/Operational | Process created Process | 1 |\n",
    "| Authentication log | Microsoft-Windows-Security-Auditing | User authenticated Host | 4778 |"
   ]
  },
  {
   "cell_type": "code",
   "execution_count": null,
   "id": "92e8cd9c",
   "metadata": {},
   "outputs": [],
   "source": [
    "df = spark.sql(\n",
    "'''\n",
    "SELECT o.`@timestamp`, o.Hostname, o.SessionName, o.AccountName, o.ClientName, o.ClientAddress, a.Image, a.CommandLine\n",
    "FROM sdTable o\n",
    "INNER JOIN (\n",
    "    SELECT LogonId, Image, CommandLine\n",
    "    FROM (\n",
    "        SELECT o.Image, o.LogonId, o.CommandLine\n",
    "        FROM sdTable o\n",
    "        INNER JOIN (\n",
    "            SELECT Hostname,SourceProcessGUID\n",
    "            FROM sdTable\n",
    "            WHERE Channel = \"Microsoft-Windows-Sysmon/Operational\"\n",
    "                AND EventID = 10\n",
    "                AND lower(TargetImage) LIKE \"%lsass.exe\"\n",
    "                AND (lower(CallTrace) RLIKE \".*dbgcore\\.dll.*\" OR lower(CallTrace) RLIKE \".*dbghelp\\.dll.*\")\n",
    "            ) a\n",
    "        ON o.ProcessGuid = a.SourceProcessGUID\n",
    "        WHERE o.Channel = \"Microsoft-Windows-Sysmon/Operational\"\n",
    "            AND o.EventID = 1\n",
    "        )\n",
    "    ) a\n",
    "ON o.LogonID = a.LogonId\n",
    "WHERE lower(o.Channel) = \"security\"\n",
    "    AND o.EventID = 4778\n",
    "'''\n",
    ")\n",
    "df.show(10,False)"
   ]
  },
  {
   "cell_type": "markdown",
   "id": "6cef1a04",
   "metadata": {},
   "source": [
    "## Known Bypasses"
   ]
  },
  {
   "cell_type": "markdown",
   "id": "7cfe8d48",
   "metadata": {},
   "source": [
    "## False Positives\n",
    "None"
   ]
  },
  {
   "cell_type": "markdown",
   "id": "464fc1ed",
   "metadata": {},
   "source": [
    "## Hunter Notes\n",
    "* Add context to your queries by joining RDP remote interactive authentication events by the logon ID."
   ]
  },
  {
   "cell_type": "markdown",
   "id": "9a7360e5",
   "metadata": {},
   "source": [
    "## References\n",
    "* https://car.mitre.org/analytics/CAR-2019-08-001/"
   ]
  }
 ],
 "metadata": {
  "kernelspec": {
   "display_name": "PySpark_Python3",
   "language": "python",
   "name": "pyspark3"
  },
  "language_info": {
   "codemirror_mode": {
    "name": "ipython",
    "version": 3
   },
   "file_extension": ".py",
   "mimetype": "text/x-python",
   "name": "python",
   "nbconvert_exporter": "python",
   "pygments_lexer": "ipython3",
   "version": "3.7.3"
  }
 },
 "nbformat": 4,
 "nbformat_minor": 5
}
