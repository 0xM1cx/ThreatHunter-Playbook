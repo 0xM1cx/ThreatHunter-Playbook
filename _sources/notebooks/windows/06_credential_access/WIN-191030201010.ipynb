{
 "cells": [
  {
   "cell_type": "markdown",
   "id": "2c901acf",
   "metadata": {},
   "source": [
    "# Remote Interactive Task Manager LSASS Dump"
   ]
  },
  {
   "cell_type": "markdown",
   "id": "81529310",
   "metadata": {},
   "source": [
    "## Metadata"
   ]
  },
  {
   "cell_type": "markdown",
   "id": "65c144ca",
   "metadata": {},
   "source": [
    "\n",
    "|     Metadata      |  Value  |\n",
    "|:------------------|:---|\n",
    "| collaborators     | ['@Cyb3rWard0g', '@Cyb3rPandaH'] |\n",
    "| creation date     | 2019/10/30 |\n",
    "| modification date | 2020/09/20 |\n",
    "| playbook related  | ['WIN-1904101010'] |"
   ]
  },
  {
   "cell_type": "markdown",
   "id": "d60f63fd",
   "metadata": {},
   "source": [
    "## Hypothesis\n",
    "Adversaries might be RDPing to computers in my environment and interactively dumping the memory contents of LSASS with task manager."
   ]
  },
  {
   "cell_type": "markdown",
   "id": "df0cf125",
   "metadata": {},
   "source": [
    "## Technical Context\n",
    "None"
   ]
  },
  {
   "cell_type": "markdown",
   "id": "528446ff",
   "metadata": {},
   "source": [
    "## Offensive Tradecraft\n",
    "The Windows Task Manager may be used to dump the memory space of lsass.exe to disk for processing with a credential access tool such as Mimikatz.\n",
    "This is performed by launching Task Manager as a privileged user, selecting lsass.exe, and clicking \"Create dump file\".\n",
    "This saves a dump file to disk with a deterministic name that includes the name of the process being dumped."
   ]
  },
  {
   "cell_type": "markdown",
   "id": "e027745d",
   "metadata": {},
   "source": [
    "## Security Datasets"
   ]
  },
  {
   "cell_type": "markdown",
   "id": "70d8acdd",
   "metadata": {},
   "source": [
    "\n",
    "| Metadata  |    Value  |\n",
    "|:----------|:----------|\n",
    "| docs      | https://securitydatasets.com/notebooks/atomic/windows/credential_access/SDWIN-191027055035.html        |\n",
    "| link      | [https://raw.githubusercontent.com/OTRF/Security-Datasets/master/datasets/atomic/windows/credential_access/host/rdp_interactive_taskmanager_lsass_dump.zip](https://raw.githubusercontent.com/OTRF/Security-Datasets/master/datasets/atomic/windows/credential_access/host/rdp_interactive_taskmanager_lsass_dump.zip)  |"
   ]
  },
  {
   "cell_type": "markdown",
   "id": "a16f7834",
   "metadata": {},
   "source": [
    "## Analytics"
   ]
  },
  {
   "cell_type": "markdown",
   "id": "31494315",
   "metadata": {},
   "source": [
    "### Initialize Analytics Engine"
   ]
  },
  {
   "cell_type": "code",
   "execution_count": null,
   "id": "49a0a8c4",
   "metadata": {},
   "outputs": [],
   "source": [
    "from openhunt.mordorutils import *\n",
    "spark = get_spark()"
   ]
  },
  {
   "cell_type": "markdown",
   "id": "4ad1dcc0",
   "metadata": {},
   "source": [
    "### Download & Process Security Dataset"
   ]
  },
  {
   "cell_type": "code",
   "execution_count": null,
   "id": "5fb48531",
   "metadata": {},
   "outputs": [],
   "source": [
    "sd_file = \"https://raw.githubusercontent.com/OTRF/Security-Datasets/master/datasets/atomic/windows/credential_access/host/rdp_interactive_taskmanager_lsass_dump.zip\"\n",
    "registerSDSQLTable(spark, sd_file, \"sdTable\")"
   ]
  },
  {
   "cell_type": "markdown",
   "id": "974492ab",
   "metadata": {},
   "source": [
    "### Analytic I\n",
    "Look for taskmgr creating files which name contains the string lsass and with extension .dmp."
   ]
  },
  {
   "cell_type": "markdown",
   "id": "fa755d2b",
   "metadata": {},
   "source": [
    "\n",
    "| Data source | Event Provider | Relationship | Event |\n",
    "|:------------|:---------------|--------------|-------|\n",
    "| File | Microsoft-Windows-Sysmon/Operational | Process created File | 11 |"
   ]
  },
  {
   "cell_type": "code",
   "execution_count": null,
   "id": "a1fade85",
   "metadata": {},
   "outputs": [],
   "source": [
    "df = spark.sql(\n",
    "'''\n",
    "SELECT `@timestamp`, Hostname, Image, TargetFilename, ProcessGuid\n",
    "FROM sdTable\n",
    "WHERE Channel = \"Microsoft-Windows-Sysmon/Operational\"\n",
    "    AND EventID = 11\n",
    "    AND Image LIKE \"%taskmgr.exe\"\n",
    "    AND lower(TargetFilename) RLIKE \".*lsass.*\\.dmp\"\n",
    "'''\n",
    ")\n",
    "df.show(10,False)"
   ]
  },
  {
   "cell_type": "markdown",
   "id": "f375a9a3",
   "metadata": {},
   "source": [
    "### Analytic II\n",
    "Look for task manager access lsass and with functions from dbgcore.dll or dbghelp.dll libraries"
   ]
  },
  {
   "cell_type": "markdown",
   "id": "a799d56b",
   "metadata": {},
   "source": [
    "\n",
    "| Data source | Event Provider | Relationship | Event |\n",
    "|:------------|:---------------|--------------|-------|\n",
    "| Process | Microsoft-Windows-Sysmon/Operational | Process accessed Process | 10 |"
   ]
  },
  {
   "cell_type": "code",
   "execution_count": null,
   "id": "3fcf8f86",
   "metadata": {},
   "outputs": [],
   "source": [
    "df = spark.sql(\n",
    "'''\n",
    "SELECT `@timestamp`, Hostname, SourceImage, TargetImage, GrantedAccess\n",
    "FROM sdTable\n",
    "WHERE Channel = \"Microsoft-Windows-Sysmon/Operational\"\n",
    "    AND EventID = 10\n",
    "    AND lower(SourceImage) LIKE \"%taskmgr.exe\"\n",
    "    AND lower(TargetImage) LIKE \"%lsass.exe\"\n",
    "    AND (lower(CallTrace) RLIKE \".*dbgcore\\.dll.*\" OR lower(CallTrace) RLIKE \".*dbghelp\\.dll.*\")\n",
    "'''\n",
    ")\n",
    "df.show(10,False)"
   ]
  },
  {
   "cell_type": "markdown",
   "id": "f50ccbb8",
   "metadata": {},
   "source": [
    "### Analytic III\n",
    "Look for any process accessing lsass and with functions from dbgcore.dll or dbghelp.dll libraries"
   ]
  },
  {
   "cell_type": "markdown",
   "id": "e8a8584c",
   "metadata": {},
   "source": [
    "\n",
    "| Data source | Event Provider | Relationship | Event |\n",
    "|:------------|:---------------|--------------|-------|\n",
    "| Process | Microsoft-Windows-Sysmon/Operational | Process accessed Process | 10 |"
   ]
  },
  {
   "cell_type": "code",
   "execution_count": null,
   "id": "084cce82",
   "metadata": {},
   "outputs": [],
   "source": [
    "df = spark.sql(\n",
    "'''\n",
    "SELECT `@timestamp`, Hostname, SourceImage, TargetImage, GrantedAccess\n",
    "FROM sdTable\n",
    "WHERE Channel = \"Microsoft-Windows-Sysmon/Operational\"\n",
    "    AND EventID = 10\n",
    "    AND lower(TargetImage) LIKE \"%lsass.exe\"\n",
    "    AND (lower(CallTrace) RLIKE \".*dbgcore\\.dll.*\" OR lower(CallTrace) RLIKE \".*dbghelp\\.dll.*\")\n",
    "'''\n",
    ")\n",
    "df.show(10,False)"
   ]
  },
  {
   "cell_type": "markdown",
   "id": "8166fd25",
   "metadata": {},
   "source": [
    "### Analytic IV\n",
    "Look for combinations of process access and process creation to get more context around potential lsass dump form task manager or other binaries"
   ]
  },
  {
   "cell_type": "markdown",
   "id": "23aeb482",
   "metadata": {},
   "source": [
    "\n",
    "| Data source | Event Provider | Relationship | Event |\n",
    "|:------------|:---------------|--------------|-------|\n",
    "| Process | Microsoft-Windows-Sysmon/Operational | Process accessed Process | 10 |\n",
    "| Process | Microsoft-Windows-Sysmon/Operational | Process created Process | 1 |"
   ]
  },
  {
   "cell_type": "code",
   "execution_count": null,
   "id": "78493de4",
   "metadata": {},
   "outputs": [],
   "source": [
    "df = spark.sql(\n",
    "'''\n",
    "SELECT o.`@timestamp`, o.Hostname, o.Image, o.LogonId, o.ProcessGuid, a.SourceProcessGUID, o.CommandLine\n",
    "FROM sdTable o\n",
    "INNER JOIN (\n",
    "    SELECT Hostname,SourceProcessGUID\n",
    "    FROM sdTable\n",
    "    WHERE Channel = \"Microsoft-Windows-Sysmon/Operational\"\n",
    "        AND EventID = 10\n",
    "        AND lower(TargetImage) LIKE \"%lsass.exe\"\n",
    "        AND (lower(CallTrace) RLIKE \".*dbgcore\\.dll.*\" OR lower(CallTrace) RLIKE \".*dbghelp\\.dll.*\")\n",
    "    ) a\n",
    "ON o.ProcessGuid = a.SourceProcessGUID\n",
    "WHERE o.Channel = \"Microsoft-Windows-Sysmon/Operational\"\n",
    "    AND o.EventID = 1\n",
    "'''\n",
    ")\n",
    "df.show(10,False)"
   ]
  },
  {
   "cell_type": "markdown",
   "id": "879d7e91",
   "metadata": {},
   "source": [
    "### Analytic V\n",
    "Look for binaries accessing lsass that are running under the same logon context of a user over an RDP session"
   ]
  },
  {
   "cell_type": "markdown",
   "id": "569058a3",
   "metadata": {},
   "source": [
    "\n",
    "| Data source | Event Provider | Relationship | Event |\n",
    "|:------------|:---------------|--------------|-------|\n",
    "| Process | Microsoft-Windows-Sysmon/Operational | Process accessed Process | 10 |\n",
    "| Process | Microsoft-Windows-Sysmon/Operational | Process created Process | 1 |\n",
    "| Authentication log | Microsoft-Windows-Security-Auditing | User authenticated Host | 4778 |"
   ]
  },
  {
   "cell_type": "code",
   "execution_count": null,
   "id": "0e98daea",
   "metadata": {},
   "outputs": [],
   "source": [
    "df = spark.sql(\n",
    "'''\n",
    "SELECT o.`@timestamp`, o.Hostname, o.SessionName, o.AccountName, o.ClientName, o.ClientAddress, a.Image, a.CommandLine\n",
    "FROM sdTable o\n",
    "INNER JOIN (\n",
    "    SELECT LogonId, Image, CommandLine\n",
    "    FROM (\n",
    "        SELECT o.Image, o.LogonId, o.CommandLine\n",
    "        FROM sdTable o\n",
    "        INNER JOIN (\n",
    "            SELECT Hostname,SourceProcessGUID\n",
    "            FROM sdTable\n",
    "            WHERE Channel = \"Microsoft-Windows-Sysmon/Operational\"\n",
    "                AND EventID = 10\n",
    "                AND lower(TargetImage) LIKE \"%lsass.exe\"\n",
    "                AND (lower(CallTrace) RLIKE \".*dbgcore\\.dll.*\" OR lower(CallTrace) RLIKE \".*dbghelp\\.dll.*\")\n",
    "            ) a\n",
    "        ON o.ProcessGuid = a.SourceProcessGUID\n",
    "        WHERE o.Channel = \"Microsoft-Windows-Sysmon/Operational\"\n",
    "            AND o.EventID = 1\n",
    "        )\n",
    "    ) a\n",
    "ON o.LogonID = a.LogonId\n",
    "WHERE lower(o.Channel) = \"security\"\n",
    "    AND o.EventID = 4778\n",
    "'''\n",
    ")\n",
    "df.show(10,False)"
   ]
  },
  {
   "cell_type": "markdown",
   "id": "55e6f1ca",
   "metadata": {},
   "source": [
    "## Known Bypasses"
   ]
  },
  {
   "cell_type": "markdown",
   "id": "121a07fc",
   "metadata": {},
   "source": [
    "## False Positives\n",
    "None"
   ]
  },
  {
   "cell_type": "markdown",
   "id": "5346d25c",
   "metadata": {},
   "source": [
    "## Hunter Notes\n",
    "* Add context to your queries by joining RDP remote interactive authentication events by the logon ID."
   ]
  },
  {
   "cell_type": "markdown",
   "id": "d6b2c682",
   "metadata": {},
   "source": [
    "## References\n",
    "* https://car.mitre.org/analytics/CAR-2019-08-001/"
   ]
  }
 ],
 "metadata": {
  "kernelspec": {
   "display_name": "PySpark_Python3",
   "language": "python",
   "name": "pyspark3"
  },
  "language_info": {
   "codemirror_mode": {
    "name": "ipython",
    "version": 3
   },
   "file_extension": ".py",
   "mimetype": "text/x-python",
   "name": "python",
   "nbconvert_exporter": "python",
   "pygments_lexer": "ipython3",
   "version": "3.7.3"
  }
 },
 "nbformat": 4,
 "nbformat_minor": 5
}
