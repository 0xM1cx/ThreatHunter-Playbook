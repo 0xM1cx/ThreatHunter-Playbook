{
 "cells": [
  {
   "cell_type": "markdown",
   "id": "88d8c51f",
   "metadata": {},
   "source": [
    "# WMI Module Load"
   ]
  },
  {
   "cell_type": "markdown",
   "id": "7aa0fdde",
   "metadata": {},
   "source": [
    "## Metadata"
   ]
  },
  {
   "cell_type": "markdown",
   "id": "ce48fc21",
   "metadata": {},
   "source": [
    "\n",
    "|     Metadata      |  Value  |\n",
    "|:------------------|:---|\n",
    "| collaborators     | ['@Cyb3rWard0g', '@Cyb3rPandaH'] |\n",
    "| creation date     | 2019/08/11 |\n",
    "| modification date | 2020/09/20 |\n",
    "| playbook related  | [] |"
   ]
  },
  {
   "cell_type": "markdown",
   "id": "e782a283",
   "metadata": {},
   "source": [
    "## Hypothesis\n",
    "Adversaries might be leveraging WMI modules to execute WMI tasks bypassing controls monitoring for wmiprvse.exe or wmiapsrv.exe activity"
   ]
  },
  {
   "cell_type": "markdown",
   "id": "3f5ce89b",
   "metadata": {},
   "source": [
    "## Technical Context\n",
    "WMI is the Microsoft implementation of the Web-Based Enterprise Management (WBEM) and Common Information Model (CIM).\n",
    "Both standards aim to provide an industry-agnostic means of collecting and transmitting information related to any managed component in an enterprise. An example of a managed component in WMI would be a running process, registry key, installed service, file information, etc.\n",
    "At a high level, Microsoft's implementation of these standards can be summarized as follows > Managed Components Managed components are represented as WMI objects â€” class instances representing highly structured operating system data. Microsoft provides a wealth of WMI objects that communicate information related to the operating system. E.g. Win32_Process, Win32_Service, AntiVirusProduct, Win32_StartupCommand, etc.\n",
    "WMI modules loaded by legit processes such as wmiprvse.exe or wmiapsrv.exe are the following\n",
    "\n",
    "C:\\Windows\\System32\\wmiclnt.dll\n",
    "C:\\Windows\\System32\\wbem\\WmiApRpl.dll\n",
    "C:\\Windows\\System32\\wbem\\wmiprov.dll\n",
    "C:\\Windows\\System32\\wbem\\wmiutils.dll"
   ]
  },
  {
   "cell_type": "markdown",
   "id": "364aea9f",
   "metadata": {},
   "source": [
    "## Offensive Tradecraft\n",
    "Adversaries could leverage the WMI modules above to execute WMI tasks bypassing controls looking for wmiprvse.exe or wmiapsrv.exe activity."
   ]
  },
  {
   "cell_type": "markdown",
   "id": "717b5b6c",
   "metadata": {},
   "source": [
    "## Security Datasets"
   ]
  },
  {
   "cell_type": "markdown",
   "id": "d79a68a2",
   "metadata": {},
   "source": [
    "\n",
    "| Metadata  |    Value  |\n",
    "|:----------|:----------|\n",
    "| docs      | https://securitydatasets.com/notebooks/atomic/windows/defense_evasion/SDWIN-190518200432.html        |\n",
    "| link      | [https://raw.githubusercontent.com/OTRF/Security-Datasets/master/datasets/atomic/windows/defense_evasion/host/empire_psinject_PEinjection.zip](https://raw.githubusercontent.com/OTRF/Security-Datasets/master/datasets/atomic/windows/defense_evasion/host/empire_psinject_PEinjection.zip)  |"
   ]
  },
  {
   "cell_type": "markdown",
   "id": "4766b016",
   "metadata": {},
   "source": [
    "## Analytics"
   ]
  },
  {
   "cell_type": "markdown",
   "id": "97df2b99",
   "metadata": {},
   "source": [
    "### Initialize Analytics Engine"
   ]
  },
  {
   "cell_type": "code",
   "execution_count": null,
   "id": "e0c1619c",
   "metadata": {},
   "outputs": [],
   "source": [
    "from openhunt.mordorutils import *\n",
    "spark = get_spark()"
   ]
  },
  {
   "cell_type": "markdown",
   "id": "6f41a849",
   "metadata": {},
   "source": [
    "### Download & Process Security Dataset"
   ]
  },
  {
   "cell_type": "code",
   "execution_count": null,
   "id": "18d9262e",
   "metadata": {},
   "outputs": [],
   "source": [
    "sd_file = \"https://raw.githubusercontent.com/OTRF/Security-Datasets/master/datasets/atomic/windows/defense_evasion/host/empire_psinject_PEinjection.zip\"\n",
    "registerSDSQLTable(spark, sd_file, \"sdTable\")"
   ]
  },
  {
   "cell_type": "markdown",
   "id": "e2aa77b3",
   "metadata": {},
   "source": [
    "### Analytic I\n",
    "Look for processes (non wmiprvse.exe or WmiApSrv.exe) loading wmi modules"
   ]
  },
  {
   "cell_type": "markdown",
   "id": "93212034",
   "metadata": {},
   "source": [
    "\n",
    "| Data source | Event Provider | Relationship | Event |\n",
    "|:------------|:---------------|--------------|-------|\n",
    "| Module | Microsoft-Windows-Sysmon/Operational | Process loaded Dll | 7 |"
   ]
  },
  {
   "cell_type": "code",
   "execution_count": null,
   "id": "673129db",
   "metadata": {},
   "outputs": [],
   "source": [
    "df = spark.sql(\n",
    "'''\n",
    "SELECT `@timestamp`, Hostname, Image, ImageLoaded\n",
    "FROM sdTable\n",
    "WHERE Channel = \"Microsoft-Windows-Sysmon/Operational\"\n",
    "    AND EventID = 7\n",
    "    AND (\n",
    "        lower(ImageLoaded) LIKE \"%wmiclnt.dll\"\n",
    "        OR lower(ImageLoaded) LIKE \"%WmiApRpl.dll\"\n",
    "        OR lower(ImageLoaded) LIKE \"%wmiprov.dll\"\n",
    "        OR lower(ImageLoaded) LIKE \"%wmiutils.dll\"\n",
    "        OR lower(ImageLoaded) LIKE \"%wbemcomn.dll\"\n",
    "        OR lower(ImageLoaded) LIKE \"%WMINet_Utils.dll\"\n",
    "        OR lower(ImageLoaded) LIKE \"%wbemsvc.dll\"\n",
    "        OR lower(ImageLoaded) LIKE \"%fastprox.dll\"\n",
    "        OR lower(Description) LIKE \"%wmi%\"\n",
    "    )\n",
    "    AND NOT (\n",
    "        lower(Image) LIKE \"%wmiprvse.exe\"\n",
    "        OR lower(Image) LIKE \"%wmiapsrv.exe\"\n",
    "        OR lower(Image) LIKE \"%svchost.exe\"\n",
    "    )\n",
    "'''\n",
    ")\n",
    "df.show(10,False)"
   ]
  },
  {
   "cell_type": "markdown",
   "id": "af802e43",
   "metadata": {},
   "source": [
    "## Known Bypasses"
   ]
  },
  {
   "cell_type": "markdown",
   "id": "ddcefea8",
   "metadata": {},
   "source": [
    "## False Positives\n",
    "None"
   ]
  },
  {
   "cell_type": "markdown",
   "id": "5b8e88d7",
   "metadata": {},
   "source": [
    "## Hunter Notes\n",
    "* Stack the processes loading WMI modules and document the activity in your environment.\n",
    "* Stack child processes (if any) of non wmiprvse.exe loading wmi modules"
   ]
  },
  {
   "cell_type": "markdown",
   "id": "82ea07ea",
   "metadata": {},
   "source": [
    "## Hunt Output\n",
    "\n",
    "| Type | Link |\n",
    "| :----| :----|\n",
    "| Sigma Rule | [https://github.com/OTRF/ThreatHunter-Playbook/blob/master/signatures/sigma/sysmon_wmi_module_load.yml](https://github.com/OTRF/ThreatHunter-Playbook/blob/master/signatures/sigma/sysmon_wmi_module_load.yml) |"
   ]
  },
  {
   "cell_type": "markdown",
   "id": "4ec9faba",
   "metadata": {},
   "source": [
    "## References\n",
    "* https://posts.specterops.io/threat-hunting-with-jupyter-notebooks-part-4-sql-join-via-apache-sparksql-6630928c931e\n",
    "* https://posts.specterops.io/real-time-sysmon-processing-via-ksql-and-helk-part-3-basic-use-case-8fbf383cb54f"
   ]
  }
 ],
 "metadata": {
  "kernelspec": {
   "display_name": "PySpark_Python3",
   "language": "python",
   "name": "pyspark3"
  },
  "language_info": {
   "codemirror_mode": {
    "name": "ipython",
    "version": 3
   },
   "file_extension": ".py",
   "mimetype": "text/x-python",
   "name": "python",
   "nbconvert_exporter": "python",
   "pygments_lexer": "ipython3",
   "version": "3.7.3"
  }
 },
 "nbformat": 4,
 "nbformat_minor": 5
}
