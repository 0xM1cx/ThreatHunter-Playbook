{
 "cells": [
  {
   "cell_type": "markdown",
   "id": "8728800b",
   "metadata": {},
   "source": [
    "# Wuauclt CreateRemoteThread Execution"
   ]
  },
  {
   "cell_type": "markdown",
   "id": "b35da822",
   "metadata": {},
   "source": [
    "## Metadata"
   ]
  },
  {
   "cell_type": "markdown",
   "id": "d3b7ba1f",
   "metadata": {},
   "source": [
    "\n",
    "|     Metadata      |  Value  |\n",
    "|:------------------|:---|\n",
    "| collaborators     | ['@Cyb3rWard0g'] |\n",
    "| creation date     | 2020/10/12 |\n",
    "| modification date | 2020/10/12 |\n",
    "| playbook related  | [] |"
   ]
  },
  {
   "cell_type": "markdown",
   "id": "a1e0c58e",
   "metadata": {},
   "source": [
    "## Hypothesis\n",
    "Adversaries might be proxy executing code via the Windows Update client utility in my environment and creating and running a thread in the virtual address space of another process via the CreateRemoteThread API to bypass rules looking for it calling out to the Internet."
   ]
  },
  {
   "cell_type": "markdown",
   "id": "b3eac7d3",
   "metadata": {},
   "source": [
    "## Technical Context\n",
    "The Windows Update client (wuauclt.exe) utility allows you some control over the functioning of the Windows Update Agent."
   ]
  },
  {
   "cell_type": "markdown",
   "id": "8e98adb1",
   "metadata": {},
   "source": [
    "## Offensive Tradecraft\n",
    "Adversaries can leverage this utility to proxy the execution of code by specifying an arbitrary DLL with the following command line `wuauclt.exe /UpdateDeploymentProvider <Full_Path_To_DLL> /RunHandlerComServer`"
   ]
  },
  {
   "cell_type": "markdown",
   "id": "79588fcb",
   "metadata": {},
   "source": [
    "## Security Datasets"
   ]
  },
  {
   "cell_type": "markdown",
   "id": "32189ad0",
   "metadata": {},
   "source": [
    "\n",
    "| Metadata  |    Value  |\n",
    "|:----------|:----------|\n",
    "| docs      | https://securitydatasets.com/notebooks/atomic/windows/defense_evasion/SDWIN-201012183248.html        |\n",
    "| link      | [https://raw.githubusercontent.com/OTRF/Security-Datasets/master/datasets/atomic/windows/defense_evasion/host/covenant_lolbin_wuauclt_createremotethread.zip](https://raw.githubusercontent.com/OTRF/Security-Datasets/master/datasets/atomic/windows/defense_evasion/host/covenant_lolbin_wuauclt_createremotethread.zip)  |"
   ]
  },
  {
   "cell_type": "markdown",
   "id": "85a42ce1",
   "metadata": {},
   "source": [
    "## Analytics"
   ]
  },
  {
   "cell_type": "markdown",
   "id": "ad3e6d05",
   "metadata": {},
   "source": [
    "### Initialize Analytics Engine"
   ]
  },
  {
   "cell_type": "code",
   "execution_count": null,
   "id": "363dfd14",
   "metadata": {},
   "outputs": [],
   "source": [
    "from openhunt.mordorutils import *\n",
    "spark = get_spark()"
   ]
  },
  {
   "cell_type": "markdown",
   "id": "8eb201c4",
   "metadata": {},
   "source": [
    "### Download & Process Security Dataset"
   ]
  },
  {
   "cell_type": "code",
   "execution_count": null,
   "id": "6faaba91",
   "metadata": {},
   "outputs": [],
   "source": [
    "sd_file = \"https://raw.githubusercontent.com/OTRF/Security-Datasets/master/datasets/atomic/windows/defense_evasion/host/covenant_lolbin_wuauclt_createremotethread.zip\"\n",
    "registerMordorSQLTable(spark, sd_file, \"sdTable\")"
   ]
  },
  {
   "cell_type": "markdown",
   "id": "5a60913b",
   "metadata": {},
   "source": [
    "### Analytic I\n",
    "Look for wuauclt with the specific parameters used to load and execute a DLL."
   ]
  },
  {
   "cell_type": "markdown",
   "id": "a60ef2ae",
   "metadata": {},
   "source": [
    "\n",
    "| Data source | Event Provider | Relationship | Event |\n",
    "|:------------|:---------------|--------------|-------|\n",
    "| Process | Microsoft-Windows-Sysmon/Operational | Process created Process | 1 |"
   ]
  },
  {
   "cell_type": "code",
   "execution_count": null,
   "id": "80c33dcc",
   "metadata": {},
   "outputs": [],
   "source": [
    "df = spark.sql(\n",
    "'''\n",
    "SELECT `@timestamp`, Hostname, Image, CommandLine\n",
    "FROM sdTable\n",
    "WHERE Channel = 'Microsoft-Windows-Sysmon/Operational'\n",
    "    AND EventID = 1\n",
    "    AND Image LIKE '%wuauclt.exe'\n",
    "    AND CommandLine LIKE '%wuauclt%UpdateDeploymentProvider%.dll%RunHandlerComServer'\n",
    "'''\n",
    ")\n",
    "df.show(10,False)"
   ]
  },
  {
   "cell_type": "markdown",
   "id": "94e7e81d",
   "metadata": {},
   "source": [
    "### Analytic II\n",
    "Look for unsigned DLLs being loaded by wuauclt. You might have to stack the results and find potential anomalies over time."
   ]
  },
  {
   "cell_type": "markdown",
   "id": "f65d5555",
   "metadata": {},
   "source": [
    "\n",
    "| Data source | Event Provider | Relationship | Event |\n",
    "|:------------|:---------------|--------------|-------|\n",
    "| Module | Microsoft-Windows-Sysmon/Operational | Process loaded DLL | 7 |"
   ]
  },
  {
   "cell_type": "code",
   "execution_count": null,
   "id": "988f6aad",
   "metadata": {},
   "outputs": [],
   "source": [
    "df = spark.sql(\n",
    "'''\n",
    "SELECT `@timestamp`, Hostname, Image, ImageLoaded\n",
    "FROM sdTable\n",
    "WHERE Channel = 'Microsoft-Windows-Sysmon/Operational'\n",
    "    AND EventID = 7\n",
    "    AND Image LIKE '%wuauclt.exe'\n",
    "    AND Signed = 'false'\n",
    "'''\n",
    ")\n",
    "df.show(10,False)"
   ]
  },
  {
   "cell_type": "markdown",
   "id": "c7a621e9",
   "metadata": {},
   "source": [
    "### Analytic III\n",
    "Look for wuauclt creating and running a thread in the virtual address space of another process via the CreateRemoteThread API."
   ]
  },
  {
   "cell_type": "markdown",
   "id": "41ae9f69",
   "metadata": {},
   "source": [
    "\n",
    "| Data source | Event Provider | Relationship | Event |\n",
    "|:------------|:---------------|--------------|-------|\n",
    "| Process | Microsoft-Windows-Sysmon/Operational | Process wrote_to Process | 8 |"
   ]
  },
  {
   "cell_type": "code",
   "execution_count": null,
   "id": "32b1d343",
   "metadata": {},
   "outputs": [],
   "source": [
    "df = spark.sql(\n",
    "'''\n",
    "SELECT `@timestamp`, Hostname, TargetImage\n",
    "FROM sdTable\n",
    "WHERE Channel = 'Microsoft-Windows-Sysmon/Operational'\n",
    "    AND EventID = 8\n",
    "    AND SourceImage LIKE '%wuauclt.exe'\n",
    "'''\n",
    ")\n",
    "df.show(10,False)"
   ]
  },
  {
   "cell_type": "markdown",
   "id": "e467c415",
   "metadata": {},
   "source": [
    "### Analytic IV\n",
    "Look for recent files created being loaded by wuauclt."
   ]
  },
  {
   "cell_type": "markdown",
   "id": "2cf8d47f",
   "metadata": {},
   "source": [
    "\n",
    "| Data source | Event Provider | Relationship | Event |\n",
    "|:------------|:---------------|--------------|-------|\n",
    "| File | Microsoft-Windows-Sysmon/Operational | Process created File | 11 |\n",
    "| File | Microsoft-Windows-Sysmon/Operational | Process loaded DLL | 7 |"
   ]
  },
  {
   "cell_type": "code",
   "execution_count": null,
   "id": "2d96f964",
   "metadata": {},
   "outputs": [],
   "source": [
    "df = spark.sql(\n",
    "'''\n",
    "SELECT `@timestamp`, Hostname, ImageLoaded\n",
    "FROM sdTable b\n",
    "INNER JOIN (\n",
    "    SELECT TargetFilename, ProcessGuid\n",
    "    FROM sdTable\n",
    "    WHERE Channel = 'Microsoft-Windows-Sysmon/Operational'\n",
    "        AND EventID = 11\n",
    "    ) a\n",
    "ON b.ImageLoaded = a.TargetFilename\n",
    "WHERE Channel = 'Microsoft-Windows-Sysmon/Operational'\n",
    "  AND EventID = 7\n",
    "  AND Image LIKE '%wuauclt.exe'\n",
    "'''\n",
    ")\n",
    "df.show(10,False)"
   ]
  },
  {
   "cell_type": "markdown",
   "id": "cd152a17",
   "metadata": {},
   "source": [
    "### Analytic V\n",
    "Look for wuauclt loading recently created DLLs and writing to another process"
   ]
  },
  {
   "cell_type": "markdown",
   "id": "1b08bc6d",
   "metadata": {},
   "source": [
    "\n",
    "| Data source | Event Provider | Relationship | Event |\n",
    "|:------------|:---------------|--------------|-------|\n",
    "| Module | Microsoft-Windows-Sysmon/Operational | Process created File | 11 |\n",
    "| Module | Microsoft-Windows-Sysmon/Operational | Process loaded DLL | 7 |\n",
    "| Module | Microsoft-Windows-Sysmon/Operational | Process wrote_to Process | 8 |"
   ]
  },
  {
   "cell_type": "code",
   "execution_count": null,
   "id": "e99b3089",
   "metadata": {},
   "outputs": [],
   "source": [
    "df = spark.sql(\n",
    "'''\n",
    "SELECT `@timestamp`, Hostname, d.TargetImage, c.ImageLoaded\n",
    "FROM sdTable d\n",
    "INNER JOIN (\n",
    "    SELECT b.ProcessGuid, b.ImageLoaded\n",
    "    FROM sdTable b\n",
    "    INNER JOIN (\n",
    "      SELECT TargetFilename, ProcessGuid\n",
    "      FROM sdTable\n",
    "      WHERE Channel = 'Microsoft-Windows-Sysmon/Operational'\n",
    "          AND EventID = 11\n",
    "    ) a\n",
    "    ON b.ImageLoaded = a.TargetFilename\n",
    "    WHERE Channel = 'Microsoft-Windows-Sysmon/Operational'\n",
    "      AND EventID = 7\n",
    "      AND Image LIKE '%wuauclt.exe'\n",
    ") c\n",
    "ON d.SourceProcessGuid = c.ProcessGuid\n",
    "WHERE Channel = 'Microsoft-Windows-Sysmon/Operational'\n",
    "      AND EventID = 8\n",
    "      AND SourceImage LIKE '%wuauclt.exe'\n",
    "'''\n",
    ")\n",
    "df.show(10,False)"
   ]
  },
  {
   "cell_type": "markdown",
   "id": "b0ad1be4",
   "metadata": {},
   "source": [
    "## Known Bypasses"
   ]
  },
  {
   "cell_type": "markdown",
   "id": "0be2b982",
   "metadata": {},
   "source": [
    "## False Positives\n",
    "None"
   ]
  },
  {
   "cell_type": "markdown",
   "id": "bb840e2f",
   "metadata": {},
   "source": [
    "## Hunter Notes\n",
    "* Baseline your environment to identify normal activity from wuauclt. You will have to do some stacking on images loaded by wuauclt (Split it on signed and un-signed (if applicable))"
   ]
  },
  {
   "cell_type": "markdown",
   "id": "09131b94",
   "metadata": {},
   "source": [
    "## Hunt Output\n",
    "\n",
    "| Type | Link |\n",
    "| :----| :----|\n",
    "| Sigma Rule | [https://github.com/Neo23x0/sigma/blob/2cb540f95ed2d02f7d8a2bf84d9bf4a5962f156d/rules/windows/process_creation/sysmon_proxy_execution_wuauclt.yml](https://github.com/Neo23x0/sigma/blob/2cb540f95ed2d02f7d8a2bf84d9bf4a5962f156d/rules/windows/process_creation/sysmon_proxy_execution_wuauclt.yml) |\n",
    "| Sigma Rule | [https://github.com/OTRF/ThreatHunter-Playbook/blob/master/signatures/sigma/sysmon_proxy_execution_wuauclt_createremotethread.yml](https://github.com/OTRF/ThreatHunter-Playbook/blob/master/signatures/sigma/sysmon_proxy_execution_wuauclt_createremotethread.yml) |"
   ]
  },
  {
   "cell_type": "markdown",
   "id": "9d540a3a",
   "metadata": {},
   "source": [
    "## References\n",
    "* https://dtm.uk/wuauclt/\n",
    "* https://docs.microsoft.com/zh-cn/security-updates/windowsupdateservices/21740782\n",
    "* https://github.com/Neo23x0/sigma/blob/2cb540f95ed2d02f7d8a2bf84d9bf4a5962f156d/rules/windows/process_creation/sysmon_proxy_execution_wuauclt.yml"
   ]
  }
 ],
 "metadata": {
  "kernelspec": {
   "display_name": "PySpark_Python3",
   "language": "python",
   "name": "pyspark3"
  },
  "language_info": {
   "codemirror_mode": {
    "name": "ipython",
    "version": 3
   },
   "file_extension": ".py",
   "mimetype": "text/x-python",
   "name": "python",
   "nbconvert_exporter": "python",
   "pygments_lexer": "ipython3",
   "version": "3.7.3"
  }
 },
 "nbformat": 4,
 "nbformat_minor": 5
}
