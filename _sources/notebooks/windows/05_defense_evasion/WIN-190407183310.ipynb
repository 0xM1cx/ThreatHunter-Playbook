{
 "cells": [
  {
   "cell_type": "markdown",
   "id": "f52209c8",
   "metadata": {},
   "source": [
    "# Enable Remote Desktop Conections Registry"
   ]
  },
  {
   "cell_type": "markdown",
   "id": "6e8a7ecd",
   "metadata": {},
   "source": [
    "## Metadata"
   ]
  },
  {
   "cell_type": "markdown",
   "id": "dea5da64",
   "metadata": {},
   "source": [
    "\n",
    "|     Metadata      |  Value  |\n",
    "|:------------------|:---|\n",
    "| collaborators     | ['@Cyb3rWard0g', '@Cyb3rPandaH'] |\n",
    "| creation date     | 2019/04/07 |\n",
    "| modification date | 2020/09/20 |\n",
    "| playbook related  | [] |"
   ]
  },
  {
   "cell_type": "markdown",
   "id": "20295a36",
   "metadata": {},
   "source": [
    "## Hypothesis\n",
    "Adversaries might be modifying registry key values to enable remote desktop connections in my environment"
   ]
  },
  {
   "cell_type": "markdown",
   "id": "129c7145",
   "metadata": {},
   "source": [
    "## Technical Context\n",
    "Remote desktop is a common feature in operating systems. It allows a user to log into an interactive session with a system desktop graphical user interface on a remote system.\n",
    "Microsoft refers to its implementation of the Remote Desktop Protocol (RDP) as Remote Desktop Services (RDS)."
   ]
  },
  {
   "cell_type": "markdown",
   "id": "7acfafbb",
   "metadata": {},
   "source": [
    "## Offensive Tradecraft\n",
    "Adversaries may connect to a remote system over RDP/RDS to expand access if the service is enabled and allows access to accounts with known credentials.\n",
    "There are several settings that must be configured to enable Remote Desktop connections.\n",
    "First, you must enable Remote Desktop connections by using the fDenyTSConnections setting.\n",
    "Setting fDenyTSConnections=False in the Microsoft-Windows-TerminalServices-LocalSessionManager component (HKLM:\\SYSTEM\\CurrentControlSet\\Control\\Terminal Server) specifies whether Remote Desktop connections are enabled.\n",
    "\n",
    "An adversary can also specify how users are authenticated.\n",
    "Setting UserAuthentication=0 in the Microsoft-Windows-TerminalServices-RDP-WinStationExtensions component (HKLM:\\System\\CurrentControlSet\\Control\\Terminal Server\\WinStations\\RDP-Tcp) helps make sure that users can connect remotely from computers that don't run Remote Desktop by using network-level authentication.\n",
    "This is the equivalent of Allow connections from computers running any version of Remote Desktop (less secure) security setting."
   ]
  },
  {
   "cell_type": "markdown",
   "id": "16640112",
   "metadata": {},
   "source": [
    "## Security Datasets"
   ]
  },
  {
   "cell_type": "markdown",
   "id": "40bdfaee",
   "metadata": {},
   "source": [
    "\n",
    "| Metadata  |    Value  |\n",
    "|:----------|:----------|\n",
    "| docs      | https://securitydatasets.com/notebooks/atomic/windows/defense_evasion/SDWIN-190518203650.html        |\n",
    "| link      | [https://raw.githubusercontent.com/OTRF/Security-Datasets/master/datasets/atomic/windows/defense_evasion/host/empire_enable_rdp.tar.gz](https://raw.githubusercontent.com/OTRF/Security-Datasets/master/datasets/atomic/windows/defense_evasion/host/empire_enable_rdp.tar.gz)  |"
   ]
  },
  {
   "cell_type": "markdown",
   "id": "0a49b619",
   "metadata": {},
   "source": [
    "## Analytics"
   ]
  },
  {
   "cell_type": "markdown",
   "id": "a37888c9",
   "metadata": {},
   "source": [
    "### Initialize Analytics Engine"
   ]
  },
  {
   "cell_type": "code",
   "execution_count": null,
   "id": "41342020",
   "metadata": {},
   "outputs": [],
   "source": [
    "from openhunt.mordorutils import *\n",
    "spark = get_spark()"
   ]
  },
  {
   "cell_type": "markdown",
   "id": "5f3f6c17",
   "metadata": {},
   "source": [
    "### Download & Process Security Dataset"
   ]
  },
  {
   "cell_type": "code",
   "execution_count": null,
   "id": "d3af81cd",
   "metadata": {},
   "outputs": [],
   "source": [
    "sd_file = \"https://raw.githubusercontent.com/OTRF/Security-Datasets/master/datasets/atomic/windows/defense_evasion/host/empire_enable_rdp.tar.gz\"\n",
    "registerMordorSQLTable(spark, sd_file, \"sdTable\")"
   ]
  },
  {
   "cell_type": "markdown",
   "id": "663cc938",
   "metadata": {},
   "source": [
    "### Analytic I\n",
    "Look for any process updating fDenyTSConnections or UserAuthentication registry key values"
   ]
  },
  {
   "cell_type": "markdown",
   "id": "dbb847ff",
   "metadata": {},
   "source": [
    "\n",
    "| Data source | Event Provider | Relationship | Event |\n",
    "|:------------|:---------------|--------------|-------|\n",
    "| Windows registry | Microsoft-Windows-Sysmon/Operational | Process modified Windows registry key value | 13 |"
   ]
  },
  {
   "cell_type": "code",
   "execution_count": null,
   "id": "141a890f",
   "metadata": {},
   "outputs": [],
   "source": [
    "df = spark.sql(\n",
    "'''\n",
    "SELECT `@timestamp`, Hostname, Image, TargetObject\n",
    "FROM sdTable\n",
    "WHERE Channel = \"Microsoft-Windows-Sysmon/Operational\"\n",
    "    AND EventID = 13\n",
    "    AND (TargetObject LIKE \"%fDenyTSConnections\"\n",
    "        OR TargetObject LIKE \"%UserAuthentication\")\n",
    "    AND Details = \"DWORD (0x00000000)\"\n",
    "'''\n",
    ")\n",
    "df.show(10,False)"
   ]
  },
  {
   "cell_type": "markdown",
   "id": "644ada53",
   "metadata": {},
   "source": [
    "## Known Bypasses"
   ]
  },
  {
   "cell_type": "markdown",
   "id": "c280d158",
   "metadata": {},
   "source": [
    "## False Positives\n",
    "None"
   ]
  },
  {
   "cell_type": "markdown",
   "id": "8a86eecd",
   "metadata": {},
   "source": [
    "## Hunter Notes\n",
    "* if the activity defined above happens frequently in your environment, you cshould Stack the processeses modifying the registry key values."
   ]
  },
  {
   "cell_type": "markdown",
   "id": "7ccf9889",
   "metadata": {},
   "source": [
    "## Hunt Output\n",
    "\n",
    "| Type | Link |\n",
    "| :----| :----|\n",
    "| Sigma Rule | [https://github.com/OTRF/ThreatHunter-Playbook/tree/master/signatures/sigma/sysmon_rdp_registry_modification.yml](https://github.com/OTRF/ThreatHunter-Playbook/tree/master/signatures/sigma/sysmon_rdp_registry_modification.yml) |"
   ]
  },
  {
   "cell_type": "markdown",
   "id": "6ac85c11",
   "metadata": {},
   "source": [
    "## References\n",
    "* https://attack.mitre.org/techniques/T1076/\n",
    "* https://github.com/EmpireProject/Empire/blob/master/lib/modules/powershell/management/enable_rdp.py\n",
    "* https://docs.microsoft.com/en-us/windows-hardware/customize/desktop/unattend/microsoft-windows-terminalservices-localsessionmanager-fdenytsconnections\n",
    "* https://docs.microsoft.com/en-us/windows-hardware/manufacture/desktop/enable-remote-desktop-by-using-an-answer-file"
   ]
  }
 ],
 "metadata": {
  "kernelspec": {
   "display_name": "PySpark_Python3",
   "language": "python",
   "name": "pyspark3"
  },
  "language_info": {
   "codemirror_mode": {
    "name": "ipython",
    "version": 3
   },
   "file_extension": ".py",
   "mimetype": "text/x-python",
   "name": "python",
   "nbconvert_exporter": "python",
   "pygments_lexer": "ipython3",
   "version": "3.7.3"
  }
 },
 "nbformat": 4,
 "nbformat_minor": 5
}
