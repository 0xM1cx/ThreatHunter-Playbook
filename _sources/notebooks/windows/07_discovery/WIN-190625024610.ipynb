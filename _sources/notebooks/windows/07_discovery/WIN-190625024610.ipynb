{
 "cells": [
  {
   "cell_type": "markdown",
   "id": "37802982",
   "metadata": {},
   "source": [
    "# SysKey Registry Keys Access"
   ]
  },
  {
   "cell_type": "markdown",
   "id": "b088c3b0",
   "metadata": {},
   "source": [
    "## Metadata"
   ]
  },
  {
   "cell_type": "markdown",
   "id": "108a6f78",
   "metadata": {},
   "source": [
    "\n",
    "|     Metadata      |  Value  |\n",
    "|:------------------|:---|\n",
    "| collaborators     | ['@Cyb3rWard0g', '@Cyb3rPandaH'] |\n",
    "| creation date     | 2019/06/25 |\n",
    "| modification date | 2020/09/20 |\n",
    "| playbook related  | [] |"
   ]
  },
  {
   "cell_type": "markdown",
   "id": "bbbb0c1c",
   "metadata": {},
   "source": [
    "## Hypothesis\n",
    "Adversaries might be calculating the SysKey from registry key values to decrypt SAM entries"
   ]
  },
  {
   "cell_type": "markdown",
   "id": "dafce7ba",
   "metadata": {},
   "source": [
    "## Technical Context\n",
    "Every computer that runs Windows has its own local domain; that is, it has an account database for accounts that are specific to that computer.\n",
    "Conceptually,this is an account database like any other with accounts, groups, SIDs, and so on. These are referred to as local accounts, local groups, and so on.\n",
    "Because computers typically do not trust each other for account information, these identities stay local to the computer on which they were created."
   ]
  },
  {
   "cell_type": "markdown",
   "id": "6cc7a468",
   "metadata": {},
   "source": [
    "## Offensive Tradecraft\n",
    "Adversaries might use tools like Mimikatz with lsadump::sam commands or scripts such as Invoke-PowerDump to get the SysKey to decrypt Security Account Mannager (SAM) database entries (from registry or hive) and get NTLM, and sometimes LM hashes of local accounts passwords.\n",
    "Adversaries can calculate the Syskey by using RegOpenKeyEx/RegQueryInfoKey API calls to query the appropriate class info and values from the HKLM:\\SYSTEM\\CurrentControlSet\\Control\\Lsa\\JD, HKLM:\\SYSTEM\\CurrentControlSet\\Control\\Lsa\\Skew1, HKLM:\\SYSTEM\\CurrentControlSet\\Control\\Lsa\\GBG, and HKLM:\\SYSTEM\\CurrentControlSet\\Control\\Lsa\\Data keys.\n",
    "\n",
    "Additional reading\n",
    "* https://github.com/OTRF/ThreatHunter-Playbook/tree/master/docs/library/windows/security_account_manager_database.md\n",
    "* https://github.com/OTRF/ThreatHunter-Playbook/tree/master/docs/library/windows/syskey.md"
   ]
  },
  {
   "cell_type": "markdown",
   "id": "24b20521",
   "metadata": {},
   "source": [
    "## Security Datasets"
   ]
  },
  {
   "cell_type": "markdown",
   "id": "354a5c52",
   "metadata": {},
   "source": [
    "\n",
    "| Metadata  |    Value  |\n",
    "|:----------|:----------|\n",
    "| docs      | https://securitydatasets.com/notebooks/atomic/windows/credential_access/SDWIN-190625103712.html        |\n",
    "| link      | [https://raw.githubusercontent.com/OTRF/Security-Datasets/master/datasets/atomic/windows/credential_access/host/empire_mimikatz_sam_access.zip](https://raw.githubusercontent.com/OTRF/Security-Datasets/master/datasets/atomic/windows/credential_access/host/empire_mimikatz_sam_access.zip)  |"
   ]
  },
  {
   "cell_type": "markdown",
   "id": "cae824d3",
   "metadata": {},
   "source": [
    "## Analytics"
   ]
  },
  {
   "cell_type": "markdown",
   "id": "8533e340",
   "metadata": {},
   "source": [
    "### Initialize Analytics Engine"
   ]
  },
  {
   "cell_type": "code",
   "execution_count": null,
   "id": "ee505f7b",
   "metadata": {},
   "outputs": [],
   "source": [
    "from openhunt.mordorutils import *\n",
    "spark = get_spark()"
   ]
  },
  {
   "cell_type": "markdown",
   "id": "d009d852",
   "metadata": {},
   "source": [
    "### Download & Process Security Dataset"
   ]
  },
  {
   "cell_type": "code",
   "execution_count": null,
   "id": "505c968e",
   "metadata": {},
   "outputs": [],
   "source": [
    "sd_file = \"https://raw.githubusercontent.com/OTRF/Security-Datasets/master/datasets/atomic/windows/credential_access/host/empire_mimikatz_sam_access.zip\"\n",
    "registerMordorSQLTable(spark, sd_file, \"sdTable\")"
   ]
  },
  {
   "cell_type": "markdown",
   "id": "09f79269",
   "metadata": {},
   "source": [
    "### Analytic I\n",
    "Look for handle requests and access operations to specific registry keys used to calculate the SysKey. SACLs are needed for them"
   ]
  },
  {
   "cell_type": "markdown",
   "id": "4e220529",
   "metadata": {},
   "source": [
    "\n",
    "| Data source | Event Provider | Relationship | Event |\n",
    "|:------------|:---------------|--------------|-------|\n",
    "| Windows registry | Microsoft-Windows-Security-Auditing | Process accessed Windows registry key | 4663 |\n",
    "| Windows registry | Microsoft-Windows-Security-Auditing | Process requested access Windows registry key | 4656 |"
   ]
  },
  {
   "cell_type": "code",
   "execution_count": null,
   "id": "d26be161",
   "metadata": {},
   "outputs": [],
   "source": [
    "df = spark.sql(\n",
    "'''\n",
    "SELECT `@timestamp`, ProcessName, ObjectName, AccessMask, EventID\n",
    "FROM sdTable\n",
    "WHERE LOWER(Channel) = \"security\"\n",
    "    AND (EventID = 4656 OR EventID = 4663)\n",
    "    AND ObjectType = \"Key\"\n",
    "    AND (\n",
    "        lower(ObjectName) LIKE \"%jd\"\n",
    "        OR lower(ObjectName) LIKE \"%gbg\"\n",
    "        OR lower(ObjectName) LIKE \"%data\"\n",
    "        OR lower(ObjectName) LIKE \"%skew1\"\n",
    "    )\n",
    "'''\n",
    ")\n",
    "df.show(10,False)"
   ]
  },
  {
   "cell_type": "markdown",
   "id": "34f67f21",
   "metadata": {},
   "source": [
    "## Known Bypasses"
   ]
  },
  {
   "cell_type": "markdown",
   "id": "5616995c",
   "metadata": {},
   "source": [
    "\n",
    "| Idea | Playbook |\n",
    "|:-----|:---------|\n",
    "| Apparently the registry keys needed to calculate the SysKey are accessed by processes such as smss.exe, winlogon.exe and syskey.exe, but when the system boots. An adversary can migrate to those processes to blend in. | [None](https://github.com/OTRF/ThreatHunter-Playbook/blob/master/playbooks/None.yaml) |"
   ]
  },
  {
   "cell_type": "markdown",
   "id": "c3f03e4b",
   "metadata": {},
   "source": [
    "## False Positives\n",
    "None"
   ]
  },
  {
   "cell_type": "markdown",
   "id": "4669c858",
   "metadata": {},
   "source": [
    "## Hunter Notes\n",
    "* An audit rule needs to be added to the SACL of the following keys to monitor for ReadKey rights\n",
    "  * HKLM:\\SYSTEM\\CurrentControlSet\\Control\\Lsa\\JD\n",
    "  * HKLM:\\SYSTEM\\CurrentControlSet\\Control\\Lsa\\Skew1\n",
    "  * HKLM:\\SYSTEM\\CurrentControlSet\\Control\\Lsa\\GBG\n",
    "  * HKLM:\\SYSTEM\\CurrentControlSet\\Control\\Lsa\\Data\n",
    "* Defenders can correlate known processes accessing those registry keys with events that tell you when the system boots up.\n",
    "* Look for the same process accessing all those registry keys in a short period of time."
   ]
  },
  {
   "cell_type": "markdown",
   "id": "b924ccdd",
   "metadata": {},
   "source": [
    "## Hunt Output\n",
    "\n",
    "| Type | Link |\n",
    "| :----| :----|\n",
    "| Sigma Rule | [https://github.com/OTRF/ThreatHunter-Playbook/blob/master/signatures/sigma/win_syskey_registry_access.yml](https://github.com/OTRF/ThreatHunter-Playbook/blob/master/signatures/sigma/win_syskey_registry_access.yml) |"
   ]
  },
  {
   "cell_type": "markdown",
   "id": "6df2f557",
   "metadata": {},
   "source": [
    "## References\n",
    "* https://github.com/gentilkiwi/mimikatz/wiki/module-~-lsadump\n",
    "* https://adsecurity.org/?page_id=1821#LSADUMPSAM\n",
    "* http://www.harmj0y.net/blog/activedirectory/remote-hash-extraction-on-demand-via-host-security-descriptor-modification/\n",
    "* https://docs.microsoft.com/en-us/dotnet/api/system.security.accesscontrol.registryrights?view=netframework-4.8\n",
    "* https://docs.microsoft.com/en-us/windows/desktop/sysinfo/registry-key-security-and-access-rights"
   ]
  }
 ],
 "metadata": {
  "kernelspec": {
   "display_name": "PySpark_Python3",
   "language": "python",
   "name": "pyspark3"
  },
  "language_info": {
   "codemirror_mode": {
    "name": "ipython",
    "version": 3
   },
   "file_extension": ".py",
   "mimetype": "text/x-python",
   "name": "python",
   "nbconvert_exporter": "python",
   "pygments_lexer": "ipython3",
   "version": "3.7.3"
  }
 },
 "nbformat": 4,
 "nbformat_minor": 5
}
