{
 "cells": [
  {
   "cell_type": "markdown",
   "id": "cd527c45",
   "metadata": {},
   "source": [
    "# WMI Eventing"
   ]
  },
  {
   "cell_type": "markdown",
   "id": "44f64f37",
   "metadata": {},
   "source": [
    "## Metadata"
   ]
  },
  {
   "cell_type": "markdown",
   "id": "d7228405",
   "metadata": {},
   "source": [
    "\n",
    "|     Metadata      |  Value  |\n",
    "|:------------------|:---|\n",
    "| collaborators     | ['@Cyb3rWard0g', '@Cyb3rPandaH'] |\n",
    "| creation date     | 2019/08/10 |\n",
    "| modification date | 2020/09/20 |\n",
    "| playbook related  | [] |"
   ]
  },
  {
   "cell_type": "markdown",
   "id": "19c88383",
   "metadata": {},
   "source": [
    "## Hypothesis\n",
    "Adversaries might be leveraging WMI eventing for persistence in my environment."
   ]
  },
  {
   "cell_type": "markdown",
   "id": "cf78cca4",
   "metadata": {},
   "source": [
    "## Technical Context\n",
    "WMI is the Microsoft implementation of the Web-Based Enterprise Management (WBEM) and Common Information Model (CIM). Both standards aim to provide an industry-agnostic means of collecting and transmitting information related to any managed component in an enterprise.\n",
    "An example of a managed component in WMI would be a running process, registry key, installed service, file information, etc.\n",
    "At a high level, Microsoft implementation of these standards can be summarized as follows > Managed Components Managed components are represented as WMI objects â€” class instances representing highly structured operating system data. Microsoft provides a wealth of WMI objects that communicate information related to the operating system. E.g. Win32_Process, Win32_Service, AntiVirusProduct, Win32_StartupCommand, etc."
   ]
  },
  {
   "cell_type": "markdown",
   "id": "4e086580",
   "metadata": {},
   "source": [
    "## Offensive Tradecraft\n",
    "From an offensive perspective WMI has the ability to trigger off nearly any conceivable event, making it a good technique for persistence.\n",
    "\n",
    "Three requirements\n",
    "* Filter - An action to trigger off of\n",
    "* Consumer - An action to take upon triggering the filter\n",
    "* Binding - Registers a FilterConsumer"
   ]
  },
  {
   "cell_type": "markdown",
   "id": "deb60fcf",
   "metadata": {},
   "source": [
    "## Security Datasets"
   ]
  },
  {
   "cell_type": "markdown",
   "id": "99f7f329",
   "metadata": {},
   "source": [
    "\n",
    "| Metadata  |    Value  |\n",
    "|:----------|:----------|\n",
    "| docs      | https://securitydatasets.com/notebooks/atomic/windows/persistence/SDWIN-190518184306.html        |\n",
    "| link      | [https://raw.githubusercontent.com/OTRF/Security-Datasets/master/datasets/atomic/windows/persistence/host/empire_wmi_local_event_subscriptions_elevated_user.zip](https://raw.githubusercontent.com/OTRF/Security-Datasets/master/datasets/atomic/windows/persistence/host/empire_wmi_local_event_subscriptions_elevated_user.zip)  |"
   ]
  },
  {
   "cell_type": "markdown",
   "id": "afa273d2",
   "metadata": {},
   "source": [
    "## Analytics"
   ]
  },
  {
   "cell_type": "markdown",
   "id": "57193d12",
   "metadata": {},
   "source": [
    "### Initialize Analytics Engine"
   ]
  },
  {
   "cell_type": "code",
   "execution_count": null,
   "id": "5c157bb5",
   "metadata": {},
   "outputs": [],
   "source": [
    "from openhunt.mordorutils import *\n",
    "spark = get_spark()"
   ]
  },
  {
   "cell_type": "markdown",
   "id": "84cbb5d5",
   "metadata": {},
   "source": [
    "### Download & Process Security Dataset"
   ]
  },
  {
   "cell_type": "code",
   "execution_count": null,
   "id": "e80dd7d1",
   "metadata": {},
   "outputs": [],
   "source": [
    "sd_file = \"https://raw.githubusercontent.com/OTRF/Security-Datasets/master/datasets/atomic/windows/persistence/host/empire_wmi_local_event_subscriptions_elevated_user.zip\"\n",
    "registerMordorSQLTable(spark, sd_file, \"sdTable\")"
   ]
  },
  {
   "cell_type": "markdown",
   "id": "6f9d5ed2",
   "metadata": {},
   "source": [
    "### Analytic I\n",
    "Look for WMI event filters registered"
   ]
  },
  {
   "cell_type": "markdown",
   "id": "22d73a90",
   "metadata": {},
   "source": [
    "\n",
    "| Data source | Event Provider | Relationship | Event |\n",
    "|:------------|:---------------|--------------|-------|\n",
    "| WMI object | Microsoft-Windows-Sysmon/Operational | User created Wmi filter | 19 |"
   ]
  },
  {
   "cell_type": "code",
   "execution_count": null,
   "id": "fca0f5c2",
   "metadata": {},
   "outputs": [],
   "source": [
    "df = spark.sql(\n",
    "'''\n",
    "SELECT `@timestamp`, Hostname, User, EventNamespace, Name, Query\n",
    "FROM sdTable\n",
    "WHERE Channel = \"Microsoft-Windows-Sysmon/Operational\"\n",
    "    AND EventID = 19\n",
    "'''\n",
    ")\n",
    "df.show(10,False)"
   ]
  },
  {
   "cell_type": "markdown",
   "id": "36ca0c10",
   "metadata": {},
   "source": [
    "### Analytic II\n",
    "Look for WMI event consumers registered"
   ]
  },
  {
   "cell_type": "markdown",
   "id": "9fd9dd8c",
   "metadata": {},
   "source": [
    "\n",
    "| Data source | Event Provider | Relationship | Event |\n",
    "|:------------|:---------------|--------------|-------|\n",
    "| WMI object | Microsoft-Windows-Sysmon/Operational | User created Wmi consumer | 20 |"
   ]
  },
  {
   "cell_type": "code",
   "execution_count": null,
   "id": "2f808825",
   "metadata": {},
   "outputs": [],
   "source": [
    "df = spark.sql(\n",
    "'''\n",
    "SELECT `@timestamp`, Hostname, User, Name, Type, Destination\n",
    "FROM sdTable\n",
    "WHERE Channel = \"Microsoft-Windows-Sysmon/Operational\"\n",
    "    AND EventID = 20\n",
    "'''\n",
    ")\n",
    "df.show(10,False)"
   ]
  },
  {
   "cell_type": "markdown",
   "id": "6185142d",
   "metadata": {},
   "source": [
    "### Analytic III\n",
    "Look for WMI consumers binding to filters"
   ]
  },
  {
   "cell_type": "markdown",
   "id": "7e078fd5",
   "metadata": {},
   "source": [
    "\n",
    "| Data source | Event Provider | Relationship | Event |\n",
    "|:------------|:---------------|--------------|-------|\n",
    "| WMI object | Microsoft-Windows-Sysmon/Operational | User created Wmi subscription | 21 |"
   ]
  },
  {
   "cell_type": "code",
   "execution_count": null,
   "id": "5e3440e4",
   "metadata": {},
   "outputs": [],
   "source": [
    "df = spark.sql(\n",
    "'''\n",
    "SELECT `@timestamp`, Hostname, User, Operation, Consumer, Filter\n",
    "FROM sdTable\n",
    "WHERE Channel = \"Microsoft-Windows-Sysmon/Operational\"\n",
    "    AND EventID = 21\n",
    "'''\n",
    ")\n",
    "df.show(10,False)"
   ]
  },
  {
   "cell_type": "markdown",
   "id": "010b3d3a",
   "metadata": {},
   "source": [
    "### Analytic IV\n",
    "Look for events related to the registration of FilterToConsumerBinding"
   ]
  },
  {
   "cell_type": "markdown",
   "id": "b62f74bf",
   "metadata": {},
   "source": [
    "\n",
    "| Data source | Event Provider | Relationship | Event |\n",
    "|:------------|:---------------|--------------|-------|\n",
    "| WMI object | Microsoft-Windows-WMI-Activity/Operational | Wmi subscription created | 5861 |"
   ]
  },
  {
   "cell_type": "code",
   "execution_count": null,
   "id": "3bd0fcb1",
   "metadata": {},
   "outputs": [],
   "source": [
    "df = spark.sql(\n",
    "'''\n",
    "SELECT `@timestamp`, Hostname, Message\n",
    "FROM sdTable\n",
    "WHERE Channel = \"Microsoft-Windows-WMI-Activity/Operational\"\n",
    "    AND EventID = 5861\n",
    "'''\n",
    ")\n",
    "df.show(10,False)"
   ]
  },
  {
   "cell_type": "markdown",
   "id": "6c83c94d",
   "metadata": {},
   "source": [
    "## Known Bypasses"
   ]
  },
  {
   "cell_type": "markdown",
   "id": "52194e86",
   "metadata": {},
   "source": [
    "## False Positives\n",
    "None"
   ]
  },
  {
   "cell_type": "markdown",
   "id": "560f92a1",
   "metadata": {},
   "source": [
    "## Hunter Notes\n",
    "None"
   ]
  },
  {
   "cell_type": "markdown",
   "id": "536ab5e8",
   "metadata": {},
   "source": [
    "## References\n",
    "* https://www.blackhat.com/docs/us-15/materials/us-15-Graeber-Abusing-Windows-Management-Instrumentation-WMI-To-Build-A-Persistent%20Asynchronous-And-Fileless-Backdoor.pdf\n",
    "* https://twitter.com/mattifestation/status/899646620148539397\n",
    "* https://www.darkoperator.com/blog/2017/10/14/basics-of-tracking-wmi-activity"
   ]
  }
 ],
 "metadata": {
  "kernelspec": {
   "display_name": "PySpark_Python3",
   "language": "python",
   "name": "pyspark3"
  },
  "language_info": {
   "codemirror_mode": {
    "name": "ipython",
    "version": 3
   },
   "file_extension": ".py",
   "mimetype": "text/x-python",
   "name": "python",
   "nbconvert_exporter": "python",
   "pygments_lexer": "ipython3",
   "version": "3.7.3"
  }
 },
 "nbformat": 4,
 "nbformat_minor": 5
}
