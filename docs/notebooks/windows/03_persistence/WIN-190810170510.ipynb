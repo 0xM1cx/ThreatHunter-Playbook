{
 "cells": [
  {
   "cell_type": "markdown",
   "id": "9e90c52b",
   "metadata": {},
   "source": [
    "# WMI Eventing"
   ]
  },
  {
   "cell_type": "markdown",
   "id": "16e81209",
   "metadata": {},
   "source": [
    "## Metadata"
   ]
  },
  {
   "cell_type": "markdown",
   "id": "db494795",
   "metadata": {},
   "source": [
    "\n",
    "|     Metadata      |  Value  |\n",
    "|:------------------|:---|\n",
    "| collaborators     | ['@Cyb3rWard0g', '@Cyb3rPandaH'] |\n",
    "| creation date     | 2019/08/10 |\n",
    "| modification date | 2020/09/20 |\n",
    "| playbook related  | [] |"
   ]
  },
  {
   "cell_type": "markdown",
   "id": "54bb5f43",
   "metadata": {},
   "source": [
    "## Hypothesis\n",
    "Adversaries might be leveraging WMI eventing for persistence in my environment."
   ]
  },
  {
   "cell_type": "markdown",
   "id": "6fa7881f",
   "metadata": {},
   "source": [
    "## Technical Context\n",
    "WMI is the Microsoft implementation of the Web-Based Enterprise Management (WBEM) and Common Information Model (CIM). Both standards aim to provide an industry-agnostic means of collecting and transmitting information related to any managed component in an enterprise.\n",
    "An example of a managed component in WMI would be a running process, registry key, installed service, file information, etc.\n",
    "At a high level, Microsoft implementation of these standards can be summarized as follows > Managed Components Managed components are represented as WMI objects â€” class instances representing highly structured operating system data. Microsoft provides a wealth of WMI objects that communicate information related to the operating system. E.g. Win32_Process, Win32_Service, AntiVirusProduct, Win32_StartupCommand, etc."
   ]
  },
  {
   "cell_type": "markdown",
   "id": "30805b3d",
   "metadata": {},
   "source": [
    "## Offensive Tradecraft\n",
    "From an offensive perspective WMI has the ability to trigger off nearly any conceivable event, making it a good technique for persistence.\n",
    "\n",
    "Three requirements\n",
    "* Filter - An action to trigger off of\n",
    "* Consumer - An action to take upon triggering the filter\n",
    "* Binding - Registers a FilterConsumer"
   ]
  },
  {
   "cell_type": "markdown",
   "id": "ba393305",
   "metadata": {},
   "source": [
    "## Security Datasets"
   ]
  },
  {
   "cell_type": "markdown",
   "id": "545cacf6",
   "metadata": {},
   "source": [
    "\n",
    "| Metadata  |    Value  |\n",
    "|:----------|:----------|\n",
    "| docs      | https://securitydatasets.com/notebooks/atomic/windows/persistence/SDWIN-190518184306.html        |\n",
    "| link      | [https://raw.githubusercontent.com/OTRF/Security-Datasets/master/datasets/atomic/windows/persistence/host/empire_wmi_local_event_subscriptions_elevated_user.zip](https://raw.githubusercontent.com/OTRF/Security-Datasets/master/datasets/atomic/windows/persistence/host/empire_wmi_local_event_subscriptions_elevated_user.zip)  |"
   ]
  },
  {
   "cell_type": "markdown",
   "id": "477e2933",
   "metadata": {},
   "source": [
    "## Analytics"
   ]
  },
  {
   "cell_type": "markdown",
   "id": "13e9fd98",
   "metadata": {},
   "source": [
    "### Initialize Analytics Engine"
   ]
  },
  {
   "cell_type": "code",
   "execution_count": null,
   "id": "289b177b",
   "metadata": {},
   "outputs": [],
   "source": [
    "from openhunt.mordorutils import *\n",
    "spark = get_spark()"
   ]
  },
  {
   "cell_type": "markdown",
   "id": "c786e434",
   "metadata": {},
   "source": [
    "### Download & Process Security Dataset"
   ]
  },
  {
   "cell_type": "code",
   "execution_count": null,
   "id": "49519315",
   "metadata": {},
   "outputs": [],
   "source": [
    "sd_file = \"https://raw.githubusercontent.com/OTRF/Security-Datasets/master/datasets/atomic/windows/persistence/host/empire_wmi_local_event_subscriptions_elevated_user.zip\"\n",
    "registerMordorSQLTable(spark, sd_file, \"sdTable\")"
   ]
  },
  {
   "cell_type": "markdown",
   "id": "ce349991",
   "metadata": {},
   "source": [
    "### Analytic I\n",
    "Look for WMI event filters registered"
   ]
  },
  {
   "cell_type": "markdown",
   "id": "60a49e41",
   "metadata": {},
   "source": [
    "\n",
    "| Data source | Event Provider | Relationship | Event |\n",
    "|:------------|:---------------|--------------|-------|\n",
    "| WMI object | Microsoft-Windows-Sysmon/Operational | User created Wmi filter | 19 |"
   ]
  },
  {
   "cell_type": "code",
   "execution_count": null,
   "id": "decb487e",
   "metadata": {},
   "outputs": [],
   "source": [
    "df = spark.sql(\n",
    "'''\n",
    "SELECT `@timestamp`, Hostname, User, EventNamespace, Name, Query\n",
    "FROM sdTable\n",
    "WHERE Channel = \"Microsoft-Windows-Sysmon/Operational\"\n",
    "    AND EventID = 19\n",
    "'''\n",
    ")\n",
    "df.show(10,False)"
   ]
  },
  {
   "cell_type": "markdown",
   "id": "99869a9b",
   "metadata": {},
   "source": [
    "### Analytic II\n",
    "Look for WMI event consumers registered"
   ]
  },
  {
   "cell_type": "markdown",
   "id": "1ed36a38",
   "metadata": {},
   "source": [
    "\n",
    "| Data source | Event Provider | Relationship | Event |\n",
    "|:------------|:---------------|--------------|-------|\n",
    "| WMI object | Microsoft-Windows-Sysmon/Operational | User created Wmi consumer | 20 |"
   ]
  },
  {
   "cell_type": "code",
   "execution_count": null,
   "id": "0084345f",
   "metadata": {},
   "outputs": [],
   "source": [
    "df = spark.sql(\n",
    "'''\n",
    "SELECT `@timestamp`, Hostname, User, Name, Type, Destination\n",
    "FROM sdTable\n",
    "WHERE Channel = \"Microsoft-Windows-Sysmon/Operational\"\n",
    "    AND EventID = 20\n",
    "'''\n",
    ")\n",
    "df.show(10,False)"
   ]
  },
  {
   "cell_type": "markdown",
   "id": "947071f6",
   "metadata": {},
   "source": [
    "### Analytic III\n",
    "Look for WMI consumers binding to filters"
   ]
  },
  {
   "cell_type": "markdown",
   "id": "2f5b5b5b",
   "metadata": {},
   "source": [
    "\n",
    "| Data source | Event Provider | Relationship | Event |\n",
    "|:------------|:---------------|--------------|-------|\n",
    "| WMI object | Microsoft-Windows-Sysmon/Operational | User created Wmi subscription | 21 |"
   ]
  },
  {
   "cell_type": "code",
   "execution_count": null,
   "id": "0fc79f5d",
   "metadata": {},
   "outputs": [],
   "source": [
    "df = spark.sql(\n",
    "'''\n",
    "SELECT `@timestamp`, Hostname, User, Operation, Consumer, Filter\n",
    "FROM sdTable\n",
    "WHERE Channel = \"Microsoft-Windows-Sysmon/Operational\"\n",
    "    AND EventID = 21\n",
    "'''\n",
    ")\n",
    "df.show(10,False)"
   ]
  },
  {
   "cell_type": "markdown",
   "id": "fb56088b",
   "metadata": {},
   "source": [
    "### Analytic IV\n",
    "Look for events related to the registration of FilterToConsumerBinding"
   ]
  },
  {
   "cell_type": "markdown",
   "id": "747857c5",
   "metadata": {},
   "source": [
    "\n",
    "| Data source | Event Provider | Relationship | Event |\n",
    "|:------------|:---------------|--------------|-------|\n",
    "| WMI object | Microsoft-Windows-WMI-Activity/Operational | Wmi subscription created | 5861 |"
   ]
  },
  {
   "cell_type": "code",
   "execution_count": null,
   "id": "c9e74849",
   "metadata": {},
   "outputs": [],
   "source": [
    "df = spark.sql(\n",
    "'''\n",
    "SELECT `@timestamp`, Hostname, Message\n",
    "FROM sdTable\n",
    "WHERE Channel = \"Microsoft-Windows-WMI-Activity/Operational\"\n",
    "    AND EventID = 5861\n",
    "'''\n",
    ")\n",
    "df.show(10,False)"
   ]
  },
  {
   "cell_type": "markdown",
   "id": "52a00b1a",
   "metadata": {},
   "source": [
    "## Known Bypasses"
   ]
  },
  {
   "cell_type": "markdown",
   "id": "0450e137",
   "metadata": {},
   "source": [
    "## False Positives\n",
    "None"
   ]
  },
  {
   "cell_type": "markdown",
   "id": "ed0b96f9",
   "metadata": {},
   "source": [
    "## Hunter Notes\n",
    "None"
   ]
  },
  {
   "cell_type": "markdown",
   "id": "bcfadc4e",
   "metadata": {},
   "source": [
    "## References\n",
    "* https://www.blackhat.com/docs/us-15/materials/us-15-Graeber-Abusing-Windows-Management-Instrumentation-WMI-To-Build-A-Persistent%20Asynchronous-And-Fileless-Backdoor.pdf\n",
    "* https://twitter.com/mattifestation/status/899646620148539397\n",
    "* https://www.darkoperator.com/blog/2017/10/14/basics-of-tracking-wmi-activity"
   ]
  }
 ],
 "metadata": {
  "kernelspec": {
   "display_name": "PySpark_Python3",
   "language": "python",
   "name": "pyspark3"
  },
  "language_info": {
   "codemirror_mode": {
    "name": "ipython",
    "version": 3
   },
   "file_extension": ".py",
   "mimetype": "text/x-python",
   "name": "python",
   "nbconvert_exporter": "python",
   "pygments_lexer": "ipython3",
   "version": "3.7.3"
  }
 },
 "nbformat": 4,
 "nbformat_minor": 5
}
