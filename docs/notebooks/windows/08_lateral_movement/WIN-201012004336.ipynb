{
 "cells": [
  {
   "cell_type": "markdown",
   "id": "3c39fa2d",
   "metadata": {},
   "source": [
    "# SMB Create Remote File"
   ]
  },
  {
   "cell_type": "markdown",
   "id": "79016267",
   "metadata": {},
   "source": [
    "## Metadata"
   ]
  },
  {
   "cell_type": "markdown",
   "id": "e19877e5",
   "metadata": {},
   "source": [
    "\n",
    "|     Metadata      |  Value  |\n",
    "|:------------------|:---|\n",
    "| collaborators     | ['@Cyb3rWard0g', '@Cyb3rPandaH'] |\n",
    "| creation date     | 2020/10/12 |\n",
    "| modification date | 2020/10/12 |\n",
    "| playbook related  | [] |"
   ]
  },
  {
   "cell_type": "markdown",
   "id": "ad46d58c",
   "metadata": {},
   "source": [
    "## Hypothesis\n",
    "Adversaries might be creating a file remotely via the Server Message Block (SMB) Protocol."
   ]
  },
  {
   "cell_type": "markdown",
   "id": "d256cb4d",
   "metadata": {},
   "source": [
    "## Technical Context\n",
    "Client systems use the Common Internet File System (CIFS) Protocol to request file and print services from server systems over a network. CIFS is a stateful protocol, in which clients establish a session with a server and use that session to make a variety of requests to access files, printers, and inter-process communication (IPC) mechanisms, such as named pipes.\n",
    "The extended CIFS Protocol is known as the Server Message Block (SMB). The SMB2 CREATE Request packet is sent by a client to request either creation of or access to a file. In case of a named pipe or printer, the server MUST create a new file."
   ]
  },
  {
   "cell_type": "markdown",
   "id": "ec0fc870",
   "metadata": {},
   "source": [
    "## Offensive Tradecraft\n",
    "Adversaries leverage SMB to copy files over the network to either execute code remotely or exfiltrate data."
   ]
  },
  {
   "cell_type": "markdown",
   "id": "5a40f115",
   "metadata": {},
   "source": [
    "## Security Datasets"
   ]
  },
  {
   "cell_type": "markdown",
   "id": "bcde51e1",
   "metadata": {},
   "source": [
    "\n",
    "| Metadata  |    Value  |\n",
    "|:----------|:----------|\n",
    "| docs      | https://securitydatasets.com/notebooks/atomic/windows/lateral_movement/SDWIN-200806015757.html        |\n",
    "| link      | [https://raw.githubusercontent.com/OTRF/Security-Datasets/master/datasets/atomic/windows/lateral_movement/host/covenant_copy_smb_CreateRequest.zip](https://raw.githubusercontent.com/OTRF/Security-Datasets/master/datasets/atomic/windows/lateral_movement/host/covenant_copy_smb_CreateRequest.zip)  |"
   ]
  },
  {
   "cell_type": "markdown",
   "id": "544d4656",
   "metadata": {},
   "source": [
    "## Analytics"
   ]
  },
  {
   "cell_type": "markdown",
   "id": "16b0d9f8",
   "metadata": {},
   "source": [
    "### Initialize Analytics Engine"
   ]
  },
  {
   "cell_type": "code",
   "execution_count": null,
   "id": "9d858500",
   "metadata": {},
   "outputs": [],
   "source": [
    "from openhunt.mordorutils import *\n",
    "spark = get_spark()"
   ]
  },
  {
   "cell_type": "markdown",
   "id": "514de0ce",
   "metadata": {},
   "source": [
    "### Download & Process Security Dataset"
   ]
  },
  {
   "cell_type": "code",
   "execution_count": null,
   "id": "8b5726d0",
   "metadata": {},
   "outputs": [],
   "source": [
    "sd_file = \"https://raw.githubusercontent.com/OTRF/Security-Datasets/master/datasets/atomic/windows/lateral_movement/host/covenant_copy_smb_CreateRequest.zip\"\n",
    "registerSDSQLTable(spark, sd_file, \"sdTable\")"
   ]
  },
  {
   "cell_type": "markdown",
   "id": "c8e01df6",
   "metadata": {},
   "source": [
    "### Analytic I\n",
    "Look for non-system accounts SMB connecting (Tree Connect) to a file share that is not IPC$."
   ]
  },
  {
   "cell_type": "markdown",
   "id": "ae40c0d8",
   "metadata": {},
   "source": [
    "\n",
    "| Data source | Event Provider | Relationship | Event |\n",
    "|:------------|:---------------|--------------|-------|\n",
    "| File | Microsoft-Windows-Security-Auditing | User accessed file share | 5140 |"
   ]
  },
  {
   "cell_type": "code",
   "execution_count": null,
   "id": "14be232c",
   "metadata": {},
   "outputs": [],
   "source": [
    "df = spark.sql(\n",
    "'''\n",
    "SELECT `@timestamp`, Hostname, ShareName, SubjectUserName, SubjectLogonId,  AccessMask\n",
    "FROM sdTable\n",
    "WHERE LOWER(Channel) = 'security'\n",
    "    AND (EventID = 5140)\n",
    "    AND NOT ShareName LIKE '%IPC$'\n",
    "    AND NOT SubjectUserName LIKE '%$'\n",
    "'''\n",
    ")\n",
    "df.show(10,False)"
   ]
  },
  {
   "cell_type": "markdown",
   "id": "ed43f9e8",
   "metadata": {},
   "source": [
    "### Analytic II\n",
    "Look for non-system accounts SMB connecting (Tree Connect) to an IPC$ Share and administrative shares (i.e C$) with the same logon session ID."
   ]
  },
  {
   "cell_type": "markdown",
   "id": "73e8847c",
   "metadata": {},
   "source": [
    "\n",
    "| Data source | Event Provider | Relationship | Event |\n",
    "|:------------|:---------------|--------------|-------|\n",
    "| File | Microsoft-Windows-Security-Auditing | User accessed file share | 5140 |"
   ]
  },
  {
   "cell_type": "code",
   "execution_count": null,
   "id": "fb1ee8ac",
   "metadata": {},
   "outputs": [],
   "source": [
    "df = spark.sql(\n",
    "'''\n",
    "SELECT `@timestamp`, Hostname, ShareName, SubjectUserName, b.SubjectLogonId, IpAddress, IpPort\n",
    "FROM sdTable b\n",
    "INNER JOIN (\n",
    "    SELECT SubjectLogonId\n",
    "    FROM sdTable\n",
    "    WHERE LOWER(Channel) = \"security\"\n",
    "        AND EventID = 5140\n",
    "        AND ShareName LIKE '%IPC$'\n",
    "        AND NOT SubjectUserName LIKE '%$'\n",
    "    ) a\n",
    "ON b.SubjectLogonId = a.SubjectLogonId\n",
    "WHERE LOWER(b.Channel) = 'security'\n",
    "    AND b.EventID = 5140\n",
    "    AND b.ShareName LIKE '%C$'\n",
    "    AND NOT SubjectUserName LIKE '%$'\n",
    "'''\n",
    ")\n",
    "df.show(10,False)"
   ]
  },
  {
   "cell_type": "markdown",
   "id": "744420d5",
   "metadata": {},
   "source": [
    "### Analytic III\n",
    "Look for non-system accounts SMB accessing a file with write (0x2) access mask via administrative share (i.e C$)."
   ]
  },
  {
   "cell_type": "markdown",
   "id": "b22a2b4c",
   "metadata": {},
   "source": [
    "\n",
    "| Data source | Event Provider | Relationship | Event |\n",
    "|:------------|:---------------|--------------|-------|\n",
    "| File | Microsoft-Windows-Security-Auditing | User accessed File | 5145 |"
   ]
  },
  {
   "cell_type": "code",
   "execution_count": null,
   "id": "ff3e96f1",
   "metadata": {},
   "outputs": [],
   "source": [
    "df = spark.sql(\n",
    "'''\n",
    "SELECT `@timestamp`, Hostname, ShareName, SubjectUserName, SubjectLogonId, IpAddress, IpPort, RelativeTargetName\n",
    "FROM sdTable\n",
    "WHERE LOWER(Channel) = \"security\"\n",
    "    AND EventID = 5145\n",
    "    AND ShareName LIKE '%C$'\n",
    "    AND NOT SubjectUserName LIKE '%$'\n",
    "    AND AccessMask = '0x2'\n",
    "'''\n",
    ")\n",
    "df.show(10,False)"
   ]
  },
  {
   "cell_type": "markdown",
   "id": "31c33d76",
   "metadata": {},
   "source": [
    "### Analytic IV\n",
    "Look for non-system accounts SMB connecting (Tree Connect) to an IPC$ Share and administrative shares (i.e C$) and accessing/creating a file with write (0x2) access mask with the same logon session ID."
   ]
  },
  {
   "cell_type": "markdown",
   "id": "0653a2e9",
   "metadata": {},
   "source": [
    "\n",
    "| Data source | Event Provider | Relationship | Event |\n",
    "|:------------|:---------------|--------------|-------|\n",
    "| File | Microsoft-Windows-Security-Auditing | User accessed file share | 5140 |\n",
    "| File | Microsoft-Windows-Security-Auditing | User accessed File | 5145 |"
   ]
  },
  {
   "cell_type": "code",
   "execution_count": null,
   "id": "4c88bdf3",
   "metadata": {},
   "outputs": [],
   "source": [
    "df = spark.sql(\n",
    "'''\n",
    "SELECT `@timestamp`, Hostname, ShareName, SubjectUserName, d.SubjectLogonId, IpAddress, IpPort, RelativeTargetName\n",
    "FROM sdTable d\n",
    "INNER JOIN (\n",
    "    SELECT b.SubjectLogonId\n",
    "    FROM sdTable b\n",
    "    INNER JOIN (\n",
    "        SELECT SubjectLogonId\n",
    "        FROM sdTable\n",
    "        WHERE LOWER(Channel) = \"security\"\n",
    "            AND EventID = 5140\n",
    "            AND ShareName LIKE '%IPC$'\n",
    "            AND NOT SubjectUserName LIKE '%$'\n",
    "    ) a\n",
    "    ON b.SubjectLogonId = a.SubjectLogonId\n",
    "    WHERE LOWER(b.Channel) = 'security'\n",
    "        AND b.EventID = 5140\n",
    "        AND b.ShareName LIKE '%C$'\n",
    ") c\n",
    "ON d.SubjectLogonId = c.SubjectLogonId\n",
    "WHERE LOWER(d.Channel) = 'security'\n",
    "    AND d.EventID = 5145\n",
    "    AND d.ShareName LIKE '%C$'\n",
    "    AND d.AccessMask = '0x2'\n",
    "'''\n",
    ")\n",
    "df.show(10,False)"
   ]
  },
  {
   "cell_type": "markdown",
   "id": "d5678399",
   "metadata": {},
   "source": [
    "### Analytic V\n",
    "Look for files that were accessed over the network with write (0x2) access mask via administrative shares (i.e C$) and that were created by the System process on the target system."
   ]
  },
  {
   "cell_type": "markdown",
   "id": "7b66e408",
   "metadata": {},
   "source": [
    "\n",
    "| Data source | Event Provider | Relationship | Event |\n",
    "|:------------|:---------------|--------------|-------|\n",
    "| File | Microsoft-Windows-Security-Auditing | User accessed File | 5145 |\n",
    "| File | Microsoft-Windows-Sysmon/Operational | Process created File | 11 |"
   ]
  },
  {
   "cell_type": "code",
   "execution_count": null,
   "id": "88bd300f",
   "metadata": {},
   "outputs": [],
   "source": [
    "df = spark.sql(\n",
    "'''\n",
    "SELECT `@timestamp`, Hostname, ShareName, SubjectUserName, SubjectLogonId, IpAddress, IpPort, RelativeTargetName\n",
    "FROM sdTable b\n",
    "INNER JOIN (\n",
    "    SELECT LOWER(REVERSE(SPLIT(TargetFilename, '\\'))[0]) as TargetFilename\n",
    "    FROM sdTable\n",
    "    WHERE Channel = 'Microsoft-Windows-Sysmon/Operational'\n",
    "        AND Image = 'System'\n",
    "        AND EventID = 11\n",
    ") a\n",
    "ON LOWER(REVERSE(SPLIT(RelativeTargetName, '\\'))[0]) = a.TargetFilename\n",
    "WHERE LOWER(b.Channel) = 'security'\n",
    "    AND b.EventID = 5145\n",
    "    AND b.AccessMask = '0x2'\n",
    "'''\n",
    ")\n",
    "df.show(10,False)"
   ]
  },
  {
   "cell_type": "markdown",
   "id": "0f1212d0",
   "metadata": {},
   "source": [
    "## Known Bypasses"
   ]
  },
  {
   "cell_type": "markdown",
   "id": "8606ed73",
   "metadata": {},
   "source": [
    "## False Positives\n",
    "None"
   ]
  },
  {
   "cell_type": "markdown",
   "id": "990e2476",
   "metadata": {},
   "source": [
    "## Hunter Notes\n",
    "* Baseline your environment to identify normal activity. Document all accounts creating files over the network via administrative shares."
   ]
  },
  {
   "cell_type": "markdown",
   "id": "7a70b28f",
   "metadata": {},
   "source": [
    "## References\n",
    "* https://docs.microsoft.com/en-us/openspecs/windows_protocols/ms-smb/8341356c-ede3-4e1c-a056-3de91473bde6\n",
    "* https://docs.microsoft.com/en-us/openspecs/windows_protocols/ms-smb2/e8fb45c1-a03d-44ca-b7ae-47385cfd7997"
   ]
  }
 ],
 "metadata": {
  "kernelspec": {
   "display_name": "PySpark_Python3",
   "language": "python",
   "name": "pyspark3"
  },
  "language_info": {
   "codemirror_mode": {
    "name": "ipython",
    "version": 3
   },
   "file_extension": ".py",
   "mimetype": "text/x-python",
   "name": "python",
   "nbconvert_exporter": "python",
   "pygments_lexer": "ipython3",
   "version": "3.7.3"
  }
 },
 "nbformat": 4,
 "nbformat_minor": 5
}
