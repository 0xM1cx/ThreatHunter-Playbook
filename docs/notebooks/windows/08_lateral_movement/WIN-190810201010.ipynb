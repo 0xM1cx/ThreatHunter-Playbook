{
 "cells": [
  {
   "cell_type": "markdown",
   "id": "1dfe7e2d",
   "metadata": {},
   "source": [
    "# WMI Win32_Process Class and Create Method for Remote Execution"
   ]
  },
  {
   "cell_type": "markdown",
   "id": "540bd1ec",
   "metadata": {},
   "source": [
    "## Metadata"
   ]
  },
  {
   "cell_type": "markdown",
   "id": "05099dc7",
   "metadata": {},
   "source": [
    "\n",
    "|     Metadata      |  Value  |\n",
    "|:------------------|:---|\n",
    "| collaborators     | ['@Cyb3rWard0g', '@Cyb3rPandaH'] |\n",
    "| creation date     | 2019/08/10 |\n",
    "| modification date | 2020/09/20 |\n",
    "| playbook related  | [] |"
   ]
  },
  {
   "cell_type": "markdown",
   "id": "b018c7b1",
   "metadata": {},
   "source": [
    "## Hypothesis\n",
    "Adversaries might be leveraging WMI Win32_Process class and method Create to execute code remotely across my environment"
   ]
  },
  {
   "cell_type": "markdown",
   "id": "dfd05ceb",
   "metadata": {},
   "source": [
    "## Technical Context\n",
    "WMI is the Microsoft implementation of the Web-Based Enterprise Management (WBEM) and Common Information Model (CIM).\n",
    "Both standards aim to provide an industry-agnostic means of collecting and transmitting information related to any managed component in an enterprise.\n",
    "An example of a managed component in WMI would be a running process, registry key, installed service, file information, etc.\n",
    "At a high level, Microsoft's implementation of these standards can be summarized as follows > Managed Components Managed components are represented as WMI objects â€” class instances representing highly structured operating system data. Microsoft provides a wealth of WMI objects that communicate information related to the operating system. E.g. Win32_Process, Win32_Service, AntiVirusProduct, Win32_StartupCommand, etc."
   ]
  },
  {
   "cell_type": "markdown",
   "id": "1af74bec",
   "metadata": {},
   "source": [
    "## Offensive Tradecraft\n",
    "One well known lateral movement technique is performed via the WMI object â€” class Win32_Process and its method Create.\n",
    "This is because the Create method allows a user to create a process either locally or remotely.\n",
    "One thing to notice is that when the Create method is used on a remote system, the method is run under a host process named \"Wmiprvse.exe\".\n",
    "\n",
    "The process WmiprvSE.exe is what spawns the process defined in the CommandLine parameter of the Create method. Therefore, the new process created remotely will have Wmiprvse.exe as a parent. WmiprvSE.exe is a DCOM server and it is spawned underneath the DCOM service host svchost.exe with the following parameters C:\\WINDOWS\\system32\\svchost.exe -k DcomLaunch -p.\n",
    "From a logon session perspective, on the target, WmiprvSE.exe is spawned in a different logon session by the DCOM service host. However, whatever is executed by WmiprvSE.exe occurs on the new network type (3) logon session created by the user that authenticated from the network.\n",
    "\n",
    "Additional Reading\n",
    "* https://github.com/OTRF/ThreatHunter-Playbook/tree/master/docs/library/windows/logon_session.md"
   ]
  },
  {
   "cell_type": "markdown",
   "id": "a48a2851",
   "metadata": {},
   "source": [
    "## Security Datasets"
   ]
  },
  {
   "cell_type": "markdown",
   "id": "0b392f9c",
   "metadata": {},
   "source": [
    "\n",
    "| Metadata  |    Value  |\n",
    "|:----------|:----------|\n",
    "| docs      | https://securitydatasets.com/notebooks/atomic/windows/lateral_movement/SDWIN-200921001437.html        |\n",
    "| link      | [https://raw.githubusercontent.com/OTRF/Security-Datasets/master/datasets/atomic/windows/lateral_movement/host/empire_wmi_dcerpc_wmi_IWbemServices_ExecMethod.zip](https://raw.githubusercontent.com/OTRF/Security-Datasets/master/datasets/atomic/windows/lateral_movement/host/empire_wmi_dcerpc_wmi_IWbemServices_ExecMethod.zip)  |"
   ]
  },
  {
   "cell_type": "markdown",
   "id": "e79c68ea",
   "metadata": {},
   "source": [
    "## Analytics"
   ]
  },
  {
   "cell_type": "markdown",
   "id": "6b71a964",
   "metadata": {},
   "source": [
    "### Initialize Analytics Engine"
   ]
  },
  {
   "cell_type": "code",
   "execution_count": null,
   "id": "79d53617",
   "metadata": {},
   "outputs": [],
   "source": [
    "from openhunt.mordorutils import *\n",
    "spark = get_spark()"
   ]
  },
  {
   "cell_type": "markdown",
   "id": "3be39e1a",
   "metadata": {},
   "source": [
    "### Download & Process Security Dataset"
   ]
  },
  {
   "cell_type": "code",
   "execution_count": null,
   "id": "90df8617",
   "metadata": {},
   "outputs": [],
   "source": [
    "sd_file = \"https://raw.githubusercontent.com/OTRF/Security-Datasets/master/datasets/atomic/windows/lateral_movement/host/empire_wmi_dcerpc_wmi_IWbemServices_ExecMethod.zip\"\n",
    "registerMordorSQLTable(spark, sd_file, \"sdTable\")"
   ]
  },
  {
   "cell_type": "markdown",
   "id": "ba4b6f99",
   "metadata": {},
   "source": [
    "### Analytic I\n",
    "Look for wmiprvse.exe spawning processes that are part of non-system account sessions."
   ]
  },
  {
   "cell_type": "markdown",
   "id": "8f676be8",
   "metadata": {},
   "source": [
    "\n",
    "| Data source | Event Provider | Relationship | Event |\n",
    "|:------------|:---------------|--------------|-------|\n",
    "| Process | Microsoft-Windows-Security-Auditing | Process created Process | 4688 |\n",
    "| Process | Microsoft-Windows-Security-Auditing | User created Process | 4688 |"
   ]
  },
  {
   "cell_type": "code",
   "execution_count": null,
   "id": "f81a5f68",
   "metadata": {},
   "outputs": [],
   "source": [
    "df = spark.sql(\n",
    "'''\n",
    "SELECT `@timestamp`, Hostname, SubjectUserName, TargetUserName, NewProcessName, CommandLine\n",
    "FROM sdTable\n",
    "WHERE LOWER(Channel) = \"security\"\n",
    "    AND EventID = 4688\n",
    "    AND lower(ParentProcessName) LIKE \"%wmiprvse.exe\"\n",
    "    AND NOT TargetLogonId = \"0x3e7\"\n",
    "'''\n",
    ")\n",
    "df.show(10,False)"
   ]
  },
  {
   "cell_type": "markdown",
   "id": "193d8732",
   "metadata": {},
   "source": [
    "### Analytic II\n",
    "Look for wmiprvse.exe spawning processes that are part of non-system account sessions."
   ]
  },
  {
   "cell_type": "markdown",
   "id": "c86993d5",
   "metadata": {},
   "source": [
    "\n",
    "| Data source | Event Provider | Relationship | Event |\n",
    "|:------------|:---------------|--------------|-------|\n",
    "| Process | Microsoft-Windows-Sysmon/Operational | Process created Process | 1 |\n",
    "| Process | Microsoft-Windows-Sysmon/Operational | User created Process | 1 |"
   ]
  },
  {
   "cell_type": "code",
   "execution_count": null,
   "id": "9eb1634c",
   "metadata": {},
   "outputs": [],
   "source": [
    "df = spark.sql(\n",
    "'''\n",
    "SELECT `@timestamp`, Hostname, User, Image, CommandLine\n",
    "FROM sdTable\n",
    "WHERE Channel = \"Microsoft-Windows-Sysmon/Operational\"\n",
    "    AND EventID = 1\n",
    "    AND lower(ParentImage) LIKE \"%wmiprvse.exe\"\n",
    "    AND NOT LogonId = \"0x3e7\"\n",
    "'''\n",
    ")\n",
    "df.show(10,False)"
   ]
  },
  {
   "cell_type": "markdown",
   "id": "516c3a34",
   "metadata": {},
   "source": [
    "### Analytic III\n",
    "Look for non-system accounts leveraging WMI over the netwotk to execute code"
   ]
  },
  {
   "cell_type": "markdown",
   "id": "2856920a",
   "metadata": {},
   "source": [
    "\n",
    "| Data source | Event Provider | Relationship | Event |\n",
    "|:------------|:---------------|--------------|-------|\n",
    "| Process | Microsoft-Windows-Security-Auditing | Process created Process | 4688 |\n",
    "| Process | Microsoft-Windows-Security-Auditing | User created Process | 4688 |\n",
    "| Authentication log | Microsoft-Windows-Security-Auditing | User authenticated Host | 4624 |"
   ]
  },
  {
   "cell_type": "code",
   "execution_count": null,
   "id": "94febdcc",
   "metadata": {},
   "outputs": [],
   "source": [
    "df = spark.sql(\n",
    "'''\n",
    "SELECT o.`@timestamp`, o.Hostname, o.SubjectUserName, o.TargetUserName, o.NewProcessName, o.CommandLine, a.IpAddress\n",
    "FROM sdTable o\n",
    "INNER JOIN (\n",
    "    SELECT Hostname,TargetUserName,TargetLogonId,IpAddress\n",
    "    FROM sdTable\n",
    "    WHERE LOWER(Channel) = \"security\"\n",
    "        AND EventID = 4624\n",
    "        AND LogonType = 3\n",
    "        AND NOT TargetUserName LIKE \"%$\"\n",
    "    ) a\n",
    "ON o.TargetLogonId = a.TargetLogonId\n",
    "WHERE LOWER(o.Channel) = \"security\"\n",
    "    AND o.EventID = 4688\n",
    "    AND lower(o.ParentProcessName) LIKE \"%wmiprvse.exe\"\n",
    "    AND NOT o.TargetLogonId = \"0x3e7\"\n",
    "'''\n",
    ")\n",
    "df.show(10,False)"
   ]
  },
  {
   "cell_type": "markdown",
   "id": "cc5b7b68",
   "metadata": {},
   "source": [
    "## Known Bypasses"
   ]
  },
  {
   "cell_type": "markdown",
   "id": "047f72f7",
   "metadata": {},
   "source": [
    "## False Positives\n",
    "None"
   ]
  },
  {
   "cell_type": "markdown",
   "id": "72f6e9b8",
   "metadata": {},
   "source": [
    "## Hunter Notes\n",
    "* Stack the child processes of wmiprvse.exe in your environment. This is very helpful to reduce the number of false positive and understand your environment. You can categorize the data returned by business unit.\n",
    "* Look for wmiprvse.exe spawning new processes that are part of a network type logon session.\n",
    "* Enrich events with Network Logon events (4624 - Logon Type 3)"
   ]
  },
  {
   "cell_type": "markdown",
   "id": "23c02ae0",
   "metadata": {},
   "source": [
    "## Hunt Output\n",
    "\n",
    "| Type | Link |\n",
    "| :----| :----|\n",
    "| Sigma Rule | [https://github.com/OTRF/ThreatHunter-Playbook/blob/master/signatures/sigma/sysmon_wmi_module_load.yml](https://github.com/OTRF/ThreatHunter-Playbook/blob/master/signatures/sigma/sysmon_wmi_module_load.yml) |"
   ]
  },
  {
   "cell_type": "markdown",
   "id": "2b809c53",
   "metadata": {},
   "source": [
    "## References\n",
    "* https://posts.specterops.io/threat-hunting-with-jupyter-notebooks-part-4-sql-join-via-apache-sparksql-6630928c931e\n",
    "* https://posts.specterops.io/real-time-sysmon-processing-via-ksql-and-helk-part-3-basic-use-case-8fbf383cb54f"
   ]
  }
 ],
 "metadata": {
  "kernelspec": {
   "display_name": "PySpark_Python3",
   "language": "python",
   "name": "pyspark3"
  },
  "language_info": {
   "codemirror_mode": {
    "name": "ipython",
    "version": 3
   },
   "file_extension": ".py",
   "mimetype": "text/x-python",
   "name": "python",
   "nbconvert_exporter": "python",
   "pygments_lexer": "ipython3",
   "version": "3.7.3"
  }
 },
 "nbformat": 4,
 "nbformat_minor": 5
}
