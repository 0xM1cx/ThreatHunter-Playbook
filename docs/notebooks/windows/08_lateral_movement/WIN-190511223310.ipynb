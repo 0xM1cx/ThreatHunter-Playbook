{
 "cells": [
  {
   "cell_type": "markdown",
   "id": "7dd5fdd6",
   "metadata": {},
   "source": [
    "# PowerShell Remote Session"
   ]
  },
  {
   "cell_type": "markdown",
   "id": "f4abce44",
   "metadata": {},
   "source": [
    "## Metadata"
   ]
  },
  {
   "cell_type": "markdown",
   "id": "dd759546",
   "metadata": {},
   "source": [
    "\n",
    "|     Metadata      |  Value  |\n",
    "|:------------------|:---|\n",
    "| collaborators     | ['@Cyb3rWard0g', '@Cyb3rPandaH'] |\n",
    "| creation date     | 2019/05/11 |\n",
    "| modification date | 2020/09/20 |\n",
    "| playbook related  | ['WIN-190410151110'] |"
   ]
  },
  {
   "cell_type": "markdown",
   "id": "77716a41",
   "metadata": {},
   "source": [
    "## Hypothesis\n",
    "Adversaries might be leveraging remote powershell sessions to execute code on remote systems throughout my environment"
   ]
  },
  {
   "cell_type": "markdown",
   "id": "954746e0",
   "metadata": {},
   "source": [
    "## Technical Context\n",
    "None"
   ]
  },
  {
   "cell_type": "markdown",
   "id": "cfa8003f",
   "metadata": {},
   "source": [
    "## Offensive Tradecraft\n",
    "Adversaries can use PowerShell to perform a number of actions, including discovery of information and execution of code.\n",
    "In addition, it can be used to execute code remotely via Windows Remote Management (WinRM) services.\n",
    "Therefore, it is important to understand the basic artifacts left when PowerShell is used to execute code remotely via a remote powershell session."
   ]
  },
  {
   "cell_type": "markdown",
   "id": "73f577cc",
   "metadata": {},
   "source": [
    "## Security Datasets"
   ]
  },
  {
   "cell_type": "markdown",
   "id": "4086c491",
   "metadata": {},
   "source": [
    "\n",
    "| Metadata  |    Value  |\n",
    "|:----------|:----------|\n",
    "| docs      | https://securitydatasets.com/notebooks/atomic/windows/execution/SDWIN-190518211456.html        |\n",
    "| link      | [https://raw.githubusercontent.com/OTRF/Security-Datasets/master/datasets/atomic/windows/lateral_movement/host/empire_psremoting_stager.zip](https://raw.githubusercontent.com/OTRF/Security-Datasets/master/datasets/atomic/windows/lateral_movement/host/empire_psremoting_stager.zip)  |"
   ]
  },
  {
   "cell_type": "markdown",
   "id": "20b880a4",
   "metadata": {},
   "source": [
    "## Analytics"
   ]
  },
  {
   "cell_type": "markdown",
   "id": "ea1d1eae",
   "metadata": {},
   "source": [
    "### Initialize Analytics Engine"
   ]
  },
  {
   "cell_type": "code",
   "execution_count": null,
   "id": "f24ece6a",
   "metadata": {},
   "outputs": [],
   "source": [
    "from openhunt.mordorutils import *\n",
    "spark = get_spark()"
   ]
  },
  {
   "cell_type": "markdown",
   "id": "cb1d6619",
   "metadata": {},
   "source": [
    "### Download & Process Security Dataset"
   ]
  },
  {
   "cell_type": "code",
   "execution_count": null,
   "id": "7c9ff6a3",
   "metadata": {},
   "outputs": [],
   "source": [
    "sd_file = \"https://raw.githubusercontent.com/OTRF/Security-Datasets/master/datasets/atomic/windows/lateral_movement/host/empire_psremoting_stager.zip\"\n",
    "registerMordorSQLTable(spark, sd_file, \"sdTable\")"
   ]
  },
  {
   "cell_type": "markdown",
   "id": "269b6e8f",
   "metadata": {},
   "source": [
    "### Analytic I\n",
    "Process wsmprovhost hosts the active remote session on the target. Therefore, it is important to monitor for any the initialization of the PowerShell host wsmprovhost"
   ]
  },
  {
   "cell_type": "markdown",
   "id": "434d5668",
   "metadata": {},
   "source": [
    "\n",
    "| Data source | Event Provider | Relationship | Event |\n",
    "|:------------|:---------------|--------------|-------|\n",
    "| Powershell | Windows PowerShell | Application host started | 400 |\n",
    "| Powershell | Microsoft-Windows-PowerShell/Operational | User started Application host | 4103 |"
   ]
  },
  {
   "cell_type": "code",
   "execution_count": null,
   "id": "4f70ad03",
   "metadata": {},
   "outputs": [],
   "source": [
    "df = spark.sql(\n",
    "'''\n",
    "SELECT `@timestamp`, Hostname, Channel\n",
    "FROM sdTable\n",
    "WHERE (Channel = \"Microsoft-Windows-PowerShell/Operational\" OR Channel = \"Windows PowerShell\")\n",
    "    AND (EventID = 400 OR EventID = 4103)\n",
    "    AND Message LIKE \"%HostApplication%wsmprovhost%\"\n",
    "'''\n",
    ")\n",
    "df.show(10,False)"
   ]
  },
  {
   "cell_type": "markdown",
   "id": "c63982e1",
   "metadata": {},
   "source": [
    "### Analytic II\n",
    "Monitor for any incoming network connection where the destination port is either 5985 or 5986. That will be hosted most likely by the System process. Layer ID:44"
   ]
  },
  {
   "cell_type": "markdown",
   "id": "c0b4137e",
   "metadata": {},
   "source": [
    "\n",
    "| Data source | Event Provider | Relationship | Event |\n",
    "|:------------|:---------------|--------------|-------|\n",
    "| Process | Microsoft-Windows-Security-Auditing | Process connected to Port | 5156 |"
   ]
  },
  {
   "cell_type": "code",
   "execution_count": null,
   "id": "25927000",
   "metadata": {},
   "outputs": [],
   "source": [
    "df = spark.sql(\n",
    "'''\n",
    "SELECT `@timestamp`, Hostname, Application, SourceAddress, DestAddress, LayerName, LayerRTID\n",
    "FROM sdTable\n",
    "WHERE LOWER(Channel) = \"security\"\n",
    "    AND EventID = 5156\n",
    "    AND (DestPort = 5985 OR DestPort = 5986)\n",
    "    AND LayerRTID = 44\n",
    "'''\n",
    ")\n",
    "df.show(10,False)"
   ]
  },
  {
   "cell_type": "markdown",
   "id": "8f21adf8",
   "metadata": {},
   "source": [
    "### Analytic III\n",
    "Process wsmprovhost hosts the active remote session on the target. Therefore, from a process creation perspective, it is to document any instances of wsmprovhost being spawned and spawning other processes"
   ]
  },
  {
   "cell_type": "markdown",
   "id": "5484eb2e",
   "metadata": {},
   "source": [
    "\n",
    "| Data source | Event Provider | Relationship | Event |\n",
    "|:------------|:---------------|--------------|-------|\n",
    "| Process | Microsoft-Windows-Security-Auditing | Process created Process | 4688 |"
   ]
  },
  {
   "cell_type": "code",
   "execution_count": null,
   "id": "62cd54d1",
   "metadata": {},
   "outputs": [],
   "source": [
    "df = spark.sql(\n",
    "'''\n",
    "SELECT `@timestamp`, Hostname, ParentProcessName, NewProcessName\n",
    "FROM sdTable\n",
    "WHERE LOWER(Channel) = \"security\"\n",
    "    AND EventID = 4688\n",
    "    AND (ParentProcessName LIKE \"%wsmprovhost.exe\" OR NewProcessName LIKE \"%wsmprovhost.exe\")\n",
    "'''\n",
    ")\n",
    "df.show(10,False)"
   ]
  },
  {
   "cell_type": "markdown",
   "id": "9edac4fe",
   "metadata": {},
   "source": [
    "### Analytic IV\n",
    "Process wsmprovhost hosts the active remote session on the target. Therefore, from a process creation perspective, it is to document any instances of wsmprovhost being spawned and spawning other processes"
   ]
  },
  {
   "cell_type": "markdown",
   "id": "e0aaa628",
   "metadata": {},
   "source": [
    "\n",
    "| Data source | Event Provider | Relationship | Event |\n",
    "|:------------|:---------------|--------------|-------|\n",
    "| Process | Microsoft-Windows-Sysmon/Operational | Process created Process | 1 |"
   ]
  },
  {
   "cell_type": "code",
   "execution_count": null,
   "id": "dae8a2f9",
   "metadata": {},
   "outputs": [],
   "source": [
    "df = spark.sql(\n",
    "'''\n",
    "SELECT `@timestamp`, Hostname, ParentImage, Image\n",
    "FROM sdTable\n",
    "WHERE Channel = \"Microsoft-Windows-Sysmon/Operational\"\n",
    "    AND EventID = 1\n",
    "    AND (ParentImage LIKE \"%wsmprovhost.exe\" OR Image LIKE \"%wsmprovhost.exe\")\n",
    "'''\n",
    ")\n",
    "df.show(10,False)"
   ]
  },
  {
   "cell_type": "markdown",
   "id": "8ac22542",
   "metadata": {},
   "source": [
    "### Analytic V\n",
    "Monitor for outbound network connection where the destination port is either 5985 or 5986 and the use is not NT AUTHORITY\\NETWORK SERVICE"
   ]
  },
  {
   "cell_type": "markdown",
   "id": "b4a6ea61",
   "metadata": {},
   "source": [
    "\n",
    "| Data source | Event Provider | Relationship | Event |\n",
    "|:------------|:---------------|--------------|-------|\n",
    "| Process | Microsoft-Windows-Sysmon/Operational | User connected to Port | 3 |"
   ]
  },
  {
   "cell_type": "code",
   "execution_count": null,
   "id": "df8463fd",
   "metadata": {},
   "outputs": [],
   "source": [
    "df = spark.sql(\n",
    "'''\n",
    "SELECT `@timestamp`, Hostname, User, Initiated, Image, SourceIp, DestinationIp\n",
    "FROM sdTable\n",
    "WHERE Channel = \"Microsoft-Windows-Sysmon/Operational\"\n",
    "    AND EventID = 3\n",
    "    AND (DestinationPort = 5985 OR DestinationPort = 5986)\n",
    "    AND NOT User = \"NT AUTHORITY\\\\\\\\NETWORK SERVICE\"\n",
    "'''\n",
    ")\n",
    "df.show(10,False)"
   ]
  },
  {
   "cell_type": "markdown",
   "id": "823dce54",
   "metadata": {},
   "source": [
    "## Known Bypasses"
   ]
  },
  {
   "cell_type": "markdown",
   "id": "45131998",
   "metadata": {},
   "source": [
    "## False Positives\n",
    "None"
   ]
  },
  {
   "cell_type": "markdown",
   "id": "52f73b13",
   "metadata": {},
   "source": [
    "## Hunter Notes\n",
    "* Explore the data produced in your lab environment with the analytics above and document what normal looks like from a PowerShell perspective. Then, take your findings and explore your production environment.\n",
    "* If powershell activity locally or remotely via winrm happens all the time in your environment, I suggest to categorize the data you collect by business unit or department to document profiles.\n",
    "* Layer 44 translatest to layer filter FWPM_LAYER_ALE_AUTH_RECV_ACCEPT_V4 / FWPM_LAYER_ALE_AUTH_RECV_ACCEPT_V6. This filtering layer allows for authorizing accept requests for incoming TCP connections, as well as authorizing incoming non-TCP traffic based on the first packet received. Looking for destination ports related to remote PowerShell Sessions and Layer 44 is very helpful."
   ]
  },
  {
   "cell_type": "markdown",
   "id": "8bdd8389",
   "metadata": {},
   "source": [
    "## Hunt Output\n",
    "\n",
    "| Type | Link |\n",
    "| :----| :----|\n",
    "| Sigma Rule | [https://github.com/OTRF/ThreatHunter-Playbook/blob/master/signatures/sigma/powershell_remote_powershell_session.yml](https://github.com/OTRF/ThreatHunter-Playbook/blob/master/signatures/sigma/powershell_remote_powershell_session.yml) |\n",
    "| Sigma Rule | [https://github.com/OTRF/ThreatHunter-Playbook/blob/master/signatures/sigma/sysmon_remote_powershell_session_network.yml](https://github.com/OTRF/ThreatHunter-Playbook/blob/master/signatures/sigma/sysmon_remote_powershell_session_network.yml) |\n",
    "| Sigma Rule | [https://github.com/OTRF/ThreatHunter-Playbook/blob/master/signatures/sigma/sysmon_remote_powershell_session_process.yml](https://github.com/OTRF/ThreatHunter-Playbook/blob/master/signatures/sigma/sysmon_remote_powershell_session_process.yml) |\n",
    "| Sigma Rule | [https://github.com/OTRF/ThreatHunter-Playbook/blob/master/signatures/sigma/win_remote_powershell_session.yml](https://github.com/OTRF/ThreatHunter-Playbook/blob/master/signatures/sigma/win_remote_powershell_session.yml) |"
   ]
  },
  {
   "cell_type": "markdown",
   "id": "fb96bf7c",
   "metadata": {},
   "source": [
    "## References\n",
    "* https://docs.microsoft.com/en-us/powershell/scripting/learn/remoting/running-remote-commands?view=powershell-6#windows-powershell-remoting\n",
    "* https://docs.microsoft.com/en-us/powershell/module/microsoft.powershell.core/about/about_remote_requirements?view=powershell-6\n",
    "* https://docs.microsoft.com/en-us/windows/win32/fwp/management-filtering-layer-identifiers-"
   ]
  }
 ],
 "metadata": {
  "kernelspec": {
   "display_name": "PySpark_Python3",
   "language": "python",
   "name": "pyspark3"
  },
  "language_info": {
   "codemirror_mode": {
    "name": "ipython",
    "version": 3
   },
   "file_extension": ".py",
   "mimetype": "text/x-python",
   "name": "python",
   "nbconvert_exporter": "python",
   "pygments_lexer": "ipython3",
   "version": "3.7.3"
  }
 },
 "nbformat": 4,
 "nbformat_minor": 5
}
