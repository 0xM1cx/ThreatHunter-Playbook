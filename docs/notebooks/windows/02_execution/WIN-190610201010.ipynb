{
 "cells": [
  {
   "cell_type": "markdown",
   "id": "b45a8ee4",
   "metadata": {},
   "source": [
    "# Alternate PowerShell Hosts"
   ]
  },
  {
   "cell_type": "markdown",
   "id": "22fe5b9f",
   "metadata": {},
   "source": [
    "## Metadata"
   ]
  },
  {
   "cell_type": "markdown",
   "id": "17cc77cb",
   "metadata": {},
   "source": [
    "\n",
    "|     Metadata      |  Value  |\n",
    "|:------------------|:---|\n",
    "| collaborators     | ['@Cyb3rWard0g', '@Cyb3rPandaH'] |\n",
    "| creation date     | 2019/08/15 |\n",
    "| modification date | 2020/09/20 |\n",
    "| playbook related  | ['WIN-190410151110'] |"
   ]
  },
  {
   "cell_type": "markdown",
   "id": "523aa788",
   "metadata": {},
   "source": [
    "## Hypothesis\n",
    "Adversaries might be leveraging alternate PowerShell Hosts to execute PowerShell evading traditional PowerShell detections that look for powershell.exe in my environment."
   ]
  },
  {
   "cell_type": "markdown",
   "id": "a879a9c5",
   "metadata": {},
   "source": [
    "## Technical Context\n",
    "None"
   ]
  },
  {
   "cell_type": "markdown",
   "id": "809f71da",
   "metadata": {},
   "source": [
    "## Offensive Tradecraft\n",
    "Adversaries can abuse alternate signed PowerShell Hosts to evade application whitelisting solutions that block powershell.exe and naive logging based upon traditional PowerShell hosts.\n",
    "Characteristics of a PowerShell host (Matt Graeber @mattifestation) >\n",
    "* These binaries are almost always C#/.NET .exes/.dlls\n",
    "* These binaries have System.Management.Automation.dll as a referenced assembly\n",
    "* These may not always be \"built in\" binaries"
   ]
  },
  {
   "cell_type": "markdown",
   "id": "4efd958c",
   "metadata": {},
   "source": [
    "## Security Datasets"
   ]
  },
  {
   "cell_type": "markdown",
   "id": "bedcfca8",
   "metadata": {},
   "source": [
    "\n",
    "| Metadata  |    Value  |\n",
    "|:----------|:----------|\n",
    "| docs      | https://securitydatasets.com/notebooks/atomic/windows/execution/SDWIN-190518211456.html        |\n",
    "| link      | [https://raw.githubusercontent.com/OTRF/Security-Datasets/master/datasets/atomic/windows/lateral_movement/host/empire_psremoting_stager.zip](https://raw.githubusercontent.com/OTRF/Security-Datasets/master/datasets/atomic/windows/lateral_movement/host/empire_psremoting_stager.zip)  |"
   ]
  },
  {
   "cell_type": "markdown",
   "id": "6f65facb",
   "metadata": {},
   "source": [
    "## Analytics"
   ]
  },
  {
   "cell_type": "markdown",
   "id": "6e6f4305",
   "metadata": {},
   "source": [
    "### Initialize Analytics Engine"
   ]
  },
  {
   "cell_type": "code",
   "execution_count": null,
   "id": "92f2224a",
   "metadata": {},
   "outputs": [],
   "source": [
    "from openhunt.mordorutils import *\n",
    "spark = get_spark()"
   ]
  },
  {
   "cell_type": "markdown",
   "id": "dca16bc1",
   "metadata": {},
   "source": [
    "### Download & Process Security Dataset"
   ]
  },
  {
   "cell_type": "code",
   "execution_count": null,
   "id": "97568779",
   "metadata": {},
   "outputs": [],
   "source": [
    "sd_file = \"https://raw.githubusercontent.com/OTRF/Security-Datasets/master/datasets/atomic/windows/lateral_movement/host/empire_psremoting_stager.zip\"\n",
    "registerMordorSQLTable(spark, sd_file, \"sdTable\")"
   ]
  },
  {
   "cell_type": "markdown",
   "id": "b63d5178",
   "metadata": {},
   "source": [
    "### Analytic I\n",
    "Within the classic PowerShell log, event ID 400 indicates when a new PowerShell host process has started. Excluding PowerShell.exe is a good way to find alternate PowerShell hosts"
   ]
  },
  {
   "cell_type": "markdown",
   "id": "5d24796e",
   "metadata": {},
   "source": [
    "\n",
    "| Data source | Event Provider | Relationship | Event |\n",
    "|:------------|:---------------|--------------|-------|\n",
    "| Powershell | Windows PowerShell | Application host started | 400 |\n",
    "| Powershell | Microsoft-Windows-PowerShell/Operational | User started Application host | 4103 |"
   ]
  },
  {
   "cell_type": "code",
   "execution_count": null,
   "id": "842f2546",
   "metadata": {},
   "outputs": [],
   "source": [
    "df = spark.sql(\n",
    "'''\n",
    "SELECT `@timestamp`, Hostname, Channel\n",
    "FROM sdTable\n",
    "WHERE (Channel = \"Microsoft-Windows-PowerShell/Operational\" OR Channel = \"Windows PowerShell\")\n",
    "    AND (EventID = 400 OR EventID = 4103)\n",
    "    AND NOT Message LIKE \"%Host Application%powershell%\"\n",
    "'''\n",
    ")\n",
    "df.show(10,False)"
   ]
  },
  {
   "cell_type": "markdown",
   "id": "91fc034e",
   "metadata": {},
   "source": [
    "### Analytic II\n",
    "Looking for processes loading a specific PowerShell DLL is a very effective way to document the use of PowerShell in your environment"
   ]
  },
  {
   "cell_type": "markdown",
   "id": "6ac24c8f",
   "metadata": {},
   "source": [
    "\n",
    "| Data source | Event Provider | Relationship | Event |\n",
    "|:------------|:---------------|--------------|-------|\n",
    "| Module | Microsoft-Windows-Sysmon/Operational | Process loaded Dll | 7 |"
   ]
  },
  {
   "cell_type": "code",
   "execution_count": null,
   "id": "9f7861ca",
   "metadata": {},
   "outputs": [],
   "source": [
    "df = spark.sql(\n",
    "'''\n",
    "SELECT `@timestamp`, Hostname, Image, Description\n",
    "FROM sdTable\n",
    "WHERE Channel = \"Microsoft-Windows-Sysmon/Operational\"\n",
    "    AND EventID = 7\n",
    "    AND (lower(Description) = \"system.management.automation\" OR lower(ImageLoaded) LIKE \"%system.management.automation%\")\n",
    "    AND NOT Image LIKE \"%powershell.exe\"\n",
    "'''\n",
    ")\n",
    "df.show(10,False)"
   ]
  },
  {
   "cell_type": "markdown",
   "id": "b42ec8a3",
   "metadata": {},
   "source": [
    "### Analytic III\n",
    "Monitoring for PSHost* pipes is another interesting way to find other alternate PowerShell hosts in your environment."
   ]
  },
  {
   "cell_type": "markdown",
   "id": "ebaa482c",
   "metadata": {},
   "source": [
    "\n",
    "| Data source | Event Provider | Relationship | Event |\n",
    "|:------------|:---------------|--------------|-------|\n",
    "| Named pipe | Microsoft-Windows-Sysmon/Operational | Process created Pipe | 17 |"
   ]
  },
  {
   "cell_type": "code",
   "execution_count": null,
   "id": "5c7acba5",
   "metadata": {},
   "outputs": [],
   "source": [
    "df = spark.sql(\n",
    "'''\n",
    "SELECT `@timestamp`, Hostname, Image, PipeName\n",
    "FROM sdTable\n",
    "WHERE Channel = \"Microsoft-Windows-Sysmon/Operational\"\n",
    "    AND EventID = 17\n",
    "    AND lower(PipeName) LIKE \"\\\\\\pshost%\"\n",
    "    AND NOT Image LIKE \"%powershell.exe\"\n",
    "'''\n",
    ")\n",
    "df.show(10,False)"
   ]
  },
  {
   "cell_type": "markdown",
   "id": "7fcf5e20",
   "metadata": {},
   "source": [
    "## Known Bypasses"
   ]
  },
  {
   "cell_type": "markdown",
   "id": "5c70b923",
   "metadata": {},
   "source": [
    "## False Positives\n",
    "None"
   ]
  },
  {
   "cell_type": "markdown",
   "id": "db24e0da",
   "metadata": {},
   "source": [
    "## Hunter Notes\n",
    "* Explore the data produced in your lab environment with the analytics above and document what normal looks like from alternate powershell hosts. Then, take your findings and explore your production environment.\n",
    "* You can also run the script below named PowerShellHostFinder.ps1 by Matt Graber and audit PS host binaries in your environment."
   ]
  },
  {
   "cell_type": "markdown",
   "id": "986a3fa7",
   "metadata": {},
   "source": [
    "## Hunt Output\n",
    "\n",
    "| Type | Link |\n",
    "| :----| :----|\n",
    "| Sigma Rule | [https://github.com/OTRF/ThreatHunter-Playbook/tree/master/signatures/sigma/powershell_alternate_powershell_hosts.yml](https://github.com/OTRF/ThreatHunter-Playbook/tree/master/signatures/sigma/powershell_alternate_powershell_hosts.yml) |\n",
    "| Sigma Rule | [https://github.com/OTRF/ThreatHunter-Playbook/tree/master/signatures/sigma/sysmon_alternate_powershell_hosts_moduleload.yml](https://github.com/OTRF/ThreatHunter-Playbook/tree/master/signatures/sigma/sysmon_alternate_powershell_hosts_moduleload.yml) |\n",
    "| Sigma Rule | [https://github.com/OTRF/ThreatHunter-Playbook/tree/master/signatures/sigma/sysmon_alternate_powershell_hosts_pipe.yml](https://github.com/OTRF/ThreatHunter-Playbook/tree/master/signatures/sigma/sysmon_alternate_powershell_hosts_pipe.yml) |"
   ]
  },
  {
   "cell_type": "markdown",
   "id": "1004fb43",
   "metadata": {},
   "source": [
    "## References\n",
    "* https://twitter.com/mattifestation/status/971840487882506240\n",
    "* https://gist.githubusercontent.com/mattifestation/fcae777470f1bdeb9e4b32f93c245fd3/raw/abbe79c660829ab9aad58581baf681655f6ba305/PowerShellHostFinder.ps1"
   ]
  }
 ],
 "metadata": {
  "kernelspec": {
   "display_name": "PySpark_Python3",
   "language": "python",
   "name": "pyspark3"
  },
  "language_info": {
   "codemirror_mode": {
    "name": "ipython",
    "version": 3
   },
   "file_extension": ".py",
   "mimetype": "text/x-python",
   "name": "python",
   "nbconvert_exporter": "python",
   "pygments_lexer": "ipython3",
   "version": "3.7.3"
  }
 },
 "nbformat": 4,
 "nbformat_minor": 5
}
