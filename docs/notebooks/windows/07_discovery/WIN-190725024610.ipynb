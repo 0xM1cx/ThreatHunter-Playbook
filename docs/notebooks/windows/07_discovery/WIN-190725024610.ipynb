{
 "cells": [
  {
   "cell_type": "markdown",
   "id": "d9905d6a",
   "metadata": {},
   "source": [
    "# SAM Registry Hive Handle Request"
   ]
  },
  {
   "cell_type": "markdown",
   "id": "09144ef3",
   "metadata": {},
   "source": [
    "## Metadata"
   ]
  },
  {
   "cell_type": "markdown",
   "id": "d66c33ac",
   "metadata": {},
   "source": [
    "\n",
    "|     Metadata      |  Value  |\n",
    "|:------------------|:---|\n",
    "| collaborators     | ['@Cyb3rWard0g', '@Cyb3rPandaH'] |\n",
    "| creation date     | 2019/07/25 |\n",
    "| modification date | 2020/09/20 |\n",
    "| playbook related  | ['WIN-190625024610'] |"
   ]
  },
  {
   "cell_type": "markdown",
   "id": "4d2770d5",
   "metadata": {},
   "source": [
    "## Hypothesis\n",
    "Adversaries might be getting a handle to the SAM database to extract credentials in my environment"
   ]
  },
  {
   "cell_type": "markdown",
   "id": "91ff0b14",
   "metadata": {},
   "source": [
    "## Technical Context\n",
    "Every computer that runs Windows has its own local domain; that is, it has an account database for accounts that are specific to that computer.\n",
    "Conceptually,this is an account database like any other with accounts, groups, SIDs, and so on.\n",
    "These are referred to as local accounts, local groups, and so on.\n",
    "Because computers typically do not trust each other for account information, these identities stay local to the computer on which they were created."
   ]
  },
  {
   "cell_type": "markdown",
   "id": "0efd15f1",
   "metadata": {},
   "source": [
    "## Offensive Tradecraft\n",
    "Adversaries might use tools like Mimikatz with lsadump::sam commands or scripts such as Invoke-PowerDump to get the SysKey to decrypt Security Account Mannager (SAM) database entries (from registry or hive) and get NTLM, and sometimes LM hashes of local accounts passwords.\n",
    "\n",
    "In addition, adversaries can use the built-in Reg.exe utility to dump the SAM hive in order to crack it offline.\n",
    "\n",
    "Additional reading\n",
    "* https://github.com/OTRF/ThreatHunter-Playbook/tree/master/docs/library/windows/security_account_manager_database.md\n",
    "* https://github.com/OTRF/ThreatHunter-Playbook/tree/master/docs/library/windows/syskey.md"
   ]
  },
  {
   "cell_type": "markdown",
   "id": "3b470cc1",
   "metadata": {},
   "source": [
    "## Security Datasets"
   ]
  },
  {
   "cell_type": "markdown",
   "id": "f8bf2f97",
   "metadata": {},
   "source": [
    "\n",
    "| Metadata  |    Value  |\n",
    "|:----------|:----------|\n",
    "| docs      | https://securitydatasets.com/notebooks/atomic/windows/credential_access/SDWIN-190625103712.html        |\n",
    "| link      | [https://raw.githubusercontent.com/OTRF/Security-Datasets/master/datasets/atomic/windows/credential_access/host/empire_mimikatz_sam_access.zip](https://raw.githubusercontent.com/OTRF/Security-Datasets/master/datasets/atomic/windows/credential_access/host/empire_mimikatz_sam_access.zip)  |"
   ]
  },
  {
   "cell_type": "markdown",
   "id": "99b4ddc3",
   "metadata": {},
   "source": [
    "## Analytics"
   ]
  },
  {
   "cell_type": "markdown",
   "id": "3bc0ea72",
   "metadata": {},
   "source": [
    "### Initialize Analytics Engine"
   ]
  },
  {
   "cell_type": "code",
   "execution_count": null,
   "id": "7f50b78a",
   "metadata": {},
   "outputs": [],
   "source": [
    "from openhunt.mordorutils import *\n",
    "spark = get_spark()"
   ]
  },
  {
   "cell_type": "markdown",
   "id": "0a1391e0",
   "metadata": {},
   "source": [
    "### Download & Process Security Dataset"
   ]
  },
  {
   "cell_type": "code",
   "execution_count": null,
   "id": "7b80be32",
   "metadata": {},
   "outputs": [],
   "source": [
    "sd_file = \"https://raw.githubusercontent.com/OTRF/Security-Datasets/master/datasets/atomic/windows/credential_access/host/empire_mimikatz_sam_access.zip\"\n",
    "registerMordorSQLTable(spark, sd_file, \"sdTable\")"
   ]
  },
  {
   "cell_type": "markdown",
   "id": "2ae0b87e",
   "metadata": {},
   "source": [
    "### Analytic I\n",
    "Monitor for any handle requested for the SAM registry hive"
   ]
  },
  {
   "cell_type": "markdown",
   "id": "faf5c9c0",
   "metadata": {},
   "source": [
    "\n",
    "| Data source | Event Provider | Relationship | Event |\n",
    "|:------------|:---------------|--------------|-------|\n",
    "| Windows registry | Microsoft-Windows-Security-Auditing | Process requested access Windows registry key | 4656 |\n",
    "| Windows registry | Microsoft-Windows-Security-Auditing | User requested access Windows registry key | 4656 |"
   ]
  },
  {
   "cell_type": "code",
   "execution_count": null,
   "id": "80ac35d4",
   "metadata": {},
   "outputs": [],
   "source": [
    "df = spark.sql(\n",
    "'''\n",
    "SELECT `@timestamp`, Hostname, SubjectUserName, ProcessName, ObjectName, AccessMask\n",
    "FROM sdTable\n",
    "WHERE LOWER(Channel) = \"security\"\n",
    "    AND EventID = 4656\n",
    "    AND ObjectType = \"Key\"\n",
    "    AND lower(ObjectName) LIKE \"%sam\"\n",
    "'''\n",
    ")\n",
    "df.show(10,False)"
   ]
  },
  {
   "cell_type": "markdown",
   "id": "730017c0",
   "metadata": {},
   "source": [
    "## Known Bypasses"
   ]
  },
  {
   "cell_type": "markdown",
   "id": "ef5a492c",
   "metadata": {},
   "source": [
    "## False Positives\n",
    "None"
   ]
  },
  {
   "cell_type": "markdown",
   "id": "057997a2",
   "metadata": {},
   "source": [
    "## Hunter Notes\n",
    "None"
   ]
  },
  {
   "cell_type": "markdown",
   "id": "e616dabc",
   "metadata": {},
   "source": [
    "## Hunt Output\n",
    "\n",
    "| Type | Link |\n",
    "| :----| :----|\n",
    "| Sigma Rule | [https://github.com/OTRF/ThreatHunter-Playbook/blob/master/signatures/sigma/win_sam_registry_hive_handle_request.yml](https://github.com/OTRF/ThreatHunter-Playbook/blob/master/signatures/sigma/win_sam_registry_hive_handle_request.yml) |\n",
    "| Sigma Rule | [https://github.com/OTRF/ThreatHunter-Playbook/blob/master/signatures/sigma/win_sam_registry_hive_dump_via_reg_utility.yml](https://github.com/OTRF/ThreatHunter-Playbook/blob/master/signatures/sigma/win_sam_registry_hive_dump_via_reg_utility.yml) |"
   ]
  },
  {
   "cell_type": "markdown",
   "id": "290ecd31",
   "metadata": {},
   "source": [
    "## References\n",
    "* http://www.harmj0y.net/blog/activedirectory/remote-hash-extraction-on-demand-via-host-security-descriptor-modification/\n",
    "* https://github.com/gentilkiwi/mimikatz/wiki/module-~-lsadump\n",
    "* https://adsecurity.org/?page_id=1821#LSADUMPSAM"
   ]
  }
 ],
 "metadata": {
  "kernelspec": {
   "display_name": "PySpark_Python3",
   "language": "python",
   "name": "pyspark3"
  },
  "language_info": {
   "codemirror_mode": {
    "name": "ipython",
    "version": 3
   },
   "file_extension": ".py",
   "mimetype": "text/x-python",
   "name": "python",
   "nbconvert_exporter": "python",
   "pygments_lexer": "ipython3",
   "version": "3.7.3"
  }
 },
 "nbformat": 4,
 "nbformat_minor": 5
}
